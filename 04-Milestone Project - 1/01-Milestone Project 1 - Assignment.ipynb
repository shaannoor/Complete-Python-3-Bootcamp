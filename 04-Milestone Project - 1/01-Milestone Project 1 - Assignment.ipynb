{
 "cells": [
  {
   "cell_type": "markdown",
   "metadata": {},
   "source": [
    "# Milestone Project 1\n",
    "## Congratulations on making it to your first milestone!\n",
    "You've already learned a ton and are ready to work on a real project.\n",
    "\n",
    "Your assignment: Create a Tic Tac Toe game. You are free to use any IDE you like.\n",
    "\n",
    "Here are the requirements:\n",
    "\n",
    "* 2 players should be able to play the game (both sitting at the same computer)\n",
    "* The board should be printed out every time a player makes a move\n",
    "* You should be able to accept input of the player position and then place a symbol on the board\n",
    "\n",
    "Feel free to use Google to help you figure anything out (but don't just Google \"Tic Tac Toe in Python\" otherwise you won't learn anything!) Keep in mind that this project can take anywhere between several hours to several days.\n",
    "\n",
    "There are 4 Jupyter Notebooks related to this assignment:\n",
    "\n",
    "* This Assignment Notebook\n",
    "* A \"Walkthrough Steps Workbook\" Notebook\n",
    "* A \"Complete Walkthrough Solution\" Notebook\n",
    "* An \"Advanced Solution\" Notebook\n",
    "\n",
    "I encourage you to just try to start the project on your own without referencing any of the notebooks. If you get stuck, check out the next lecture which is a text lecture with helpful hints and steps. If you're still stuck after that, then check out the Walkthrough Steps Workbook, which breaks up the project in steps for you to solve. Still stuck? Then check out the Complete Walkthrough Solution video for more help on approaching the project!"
   ]
  },
  {
   "cell_type": "markdown",
   "metadata": {},
   "source": [
    "There are parts of this that will be a struggle...and that is good! I have complete faith that if you have made it this far through the course you have all the tools and knowledge to tackle this project. Remember, it's totally open book, so take your time, do a little research, and remember:\n",
    "\n",
    "## HAVE FUN!"
   ]
  },
  {
   "cell_type": "code",
   "execution_count": 1,
   "metadata": {
    "ExecuteTime": {
     "end_time": "2020-06-15T19:36:23.452961Z",
     "start_time": "2020-06-15T19:36:23.447965Z"
    }
   },
   "outputs": [],
   "source": [
    "import numpy as np\n",
    "from IPython.display import clear_output\n",
    "clear_output()"
   ]
  },
  {
   "cell_type": "code",
   "execution_count": 2,
   "metadata": {
    "ExecuteTime": {
     "end_time": "2020-06-15T19:36:23.730102Z",
     "start_time": "2020-06-15T19:36:23.727097Z"
    }
   },
   "outputs": [],
   "source": [
    "def display_game(board):\n",
    "    print(\"Here is the currnet board\\n\")\n",
    "    for row in board:\n",
    "        print(row)\n",
    "    "
   ]
  },
  {
   "cell_type": "code",
   "execution_count": 3,
   "metadata": {
    "ExecuteTime": {
     "end_time": "2020-06-15T19:36:24.004054Z",
     "start_time": "2020-06-15T19:36:23.998085Z"
    }
   },
   "outputs": [],
   "source": [
    "def choice_position(player):\n",
    "    # The original cholice value can be anyting that is not an integer\n",
    "\n",
    "    choice='wrong'\n",
    "    \n",
    "    while choice not in unoccupied_position:\n",
    "        choice = input(f\"\\npick a position to insert {dic_player_symbol[player]}. \\\n",
    "The avail positions are : {unoccupied_position} \")\n",
    "        \n",
    "        if choice in occupied_position:\n",
    "            print(f\"sorry position {choice} is occupied.\")\n",
    "       \n",
    "        elif choice not in unoccupied_position:\n",
    "             print(f\"sorry {choice} a valid position.\")\n",
    "    \n",
    "    unoccupied_position.remove(choice)\n",
    "    occupied_position.append(choice)\n",
    "    \n",
    "    row= dic_position[choice][0]\n",
    "    column = dic_position[choice][1]\n",
    "    \n",
    "    return row,column  \n",
    "    "
   ]
  },
  {
   "cell_type": "code",
   "execution_count": 4,
   "metadata": {
    "ExecuteTime": {
     "end_time": "2020-06-15T19:36:24.210992Z",
     "start_time": "2020-06-15T19:36:24.206994Z"
    }
   },
   "outputs": [],
   "source": [
    "def update_board(row,column,player):\n",
    "    board[row-1,column-1]=dic_player_symbol[player]\n",
    "    return board"
   ]
  },
  {
   "cell_type": "code",
   "execution_count": 5,
   "metadata": {
    "ExecuteTime": {
     "end_time": "2020-06-15T19:36:24.374858Z",
     "start_time": "2020-06-15T19:36:24.366866Z"
    }
   },
   "outputs": [],
   "source": [
    "def check_game_over(row,column,player):\n",
    "    if set(board[row-1])==set(dic_player_symbol[player]):\n",
    "        print(f\"\\nGame Over. Congrats ! Player {player}, you won the game\")\n",
    "        return True\n",
    "        \n",
    "    elif set(board.T[column-1])==set(dic_player_symbol[player]):\n",
    "        print(f\"\\nCongrats ! Player {player}, you won the game\")\n",
    "        return True\n",
    "        \n",
    "    elif set(board.diagonal())==set(dic_player_symbol[player]):\n",
    "        print(f\"\\nGame Over. Congrats ! Player {player}, you won the game\")\n",
    "        return True\n",
    "        \n",
    "    elif set(np.fliplr(board).diagonal())==set(dic_player_symbol[player]):\n",
    "        print(f\"\\nGame Over. Congrats ! Player {player}, you won the game\")\n",
    "        return True\n",
    "    \n",
    "    elif len(unoccupied_position)<1:\n",
    "        print(f\"\\nGame Over, It is a Draw\")\n",
    "        return True\n",
    "        \n",
    "    else:\n",
    "        print('\\nContinue Playing')\n",
    "        return False"
   ]
  },
  {
   "cell_type": "code",
   "execution_count": 6,
   "metadata": {
    "ExecuteTime": {
     "end_time": "2020-06-15T19:36:24.557347Z",
     "start_time": "2020-06-15T19:36:24.551382Z"
    }
   },
   "outputs": [],
   "source": [
    "def gameon_choice():\n",
    "    \n",
    "    # This original choice value can be anything that isn't a Y or N\n",
    "    choice = 'wrong'\n",
    "    \n",
    "    # While the choice is not a digit, keep asking for input.\n",
    "    while choice not in ['Y','N']:\n",
    "        \n",
    "        # we shouldn't convert here, otherwise we get an error on a wrong input\n",
    "        choice = input(\"Would you like to play another game? Y or N \")\n",
    "\n",
    "        \n",
    "        if choice not in ['Y','N']:\n",
    "            # THIS CLEARS THE CURRENT OUTPUT BELOW THE CELL\n",
    "            \n",
    "            clear_output()            \n",
    "            print(\"Sorry, I didn't understand. Please make sure to choose Y or N.\")\n",
    "            \n",
    "    \n",
    "    # Optionally you can clear everything after running the function\n",
    "    # clear_output()\n",
    "    \n",
    "    if choice == \"Y\":\n",
    "        # Game is still on\n",
    "        return True\n",
    "    else:\n",
    "        # Game is over\n",
    "        return False"
   ]
  },
  {
   "cell_type": "code",
   "execution_count": null,
   "metadata": {
    "ExecuteTime": {
     "start_time": "2020-06-15T19:36:25.030Z"
    }
   },
   "outputs": [
    {
     "name": "stdout",
     "output_type": "stream",
     "text": [
      "Here is the currnet board\n",
      "\n",
      "['1' '2' '3']\n",
      "['O' 'X' '6']\n",
      "['7' '8' '9']\n",
      "\n",
      "Continue Playing\n",
      "\n",
      "Player 1 it is your turn\n"
     ]
    }
   ],
   "source": [
    "# Variable to keep game playing\n",
    "clear_output()\n",
    "game_on = True\n",
    "\n",
    "dic_player_symbol={1:'X',2:'O'}\n",
    "\n",
    "dic_position={'1':[1,1],'2':[1,2],'3':[1,3],'4':[2,1],'5':[2,2],'6':[2,3],'7':[3,1],'8':[3,2],'9':[3,3]}\n",
    "\n",
    "\n",
    "\n",
    "while game_on:\n",
    "    clear_output()\n",
    "    game_over=False\n",
    "    \n",
    "    # initial Game board\n",
    "    board = np.array(([\"1\" ,\"2\" , \"3\"],[\"4\" ,\"5\" ,\"6\"],[\"7\" ,\"8\", \"9\"]),dtype=np.str_)\n",
    "    unoccupied_position=['1','2','3','4','5','6','7','8','9']\n",
    "    occupied_position=[]\n",
    "    \n",
    "    # Clear any historical output and show the game list\n",
    "    display_game(board)\n",
    "    \n",
    "    while not(game_over):\n",
    "    # ask player 1 to input choice\n",
    "        for p in [1,2]:\n",
    "            \n",
    "            print(f\"\\nPlayer {p} it is your turn\")\n",
    "\n",
    "            # Have player choose position\n",
    "            r,c = choice_position(player=p)\n",
    "            \n",
    "            # update the board\n",
    "            board = update_board(row=r,column=c,player=p)\n",
    "\n",
    "            # Clear Screen and show the updated game list\n",
    "            clear_output()\n",
    "            display_game(board)\n",
    "            \n",
    "            game_over=check_game_over(row=r,column=c,player=p)\n",
    "            if game_over:\n",
    "                break\n",
    "            else:\n",
    "                continue\n",
    "    \n",
    "    \n",
    "    \n",
    "    # Ask if you want to keep playing\n",
    "    game_on = gameon_choice()"
   ]
  },
  {
   "cell_type": "code",
   "execution_count": null,
   "metadata": {},
   "outputs": [],
   "source": []
  }
 ],
 "metadata": {
  "kernelspec": {
   "display_name": "buan6341_2020",
   "language": "python",
   "name": "buan6341_2020"
  },
  "language_info": {
   "codemirror_mode": {
    "name": "ipython",
    "version": 3
   },
   "file_extension": ".py",
   "mimetype": "text/x-python",
   "name": "python",
   "nbconvert_exporter": "python",
   "pygments_lexer": "ipython3",
   "version": "3.7.6"
  },
  "toc": {
   "base_numbering": 1,
   "nav_menu": {},
   "number_sections": true,
   "sideBar": true,
   "skip_h1_title": false,
   "title_cell": "Table of Contents",
   "title_sidebar": "Contents",
   "toc_cell": false,
   "toc_position": {},
   "toc_section_display": true,
   "toc_window_display": false
  },
  "varInspector": {
   "cols": {
    "lenName": 16,
    "lenType": 16,
    "lenVar": 40
   },
   "kernels_config": {
    "python": {
     "delete_cmd_postfix": "",
     "delete_cmd_prefix": "del ",
     "library": "var_list.py",
     "varRefreshCmd": "print(var_dic_list())"
    },
    "r": {
     "delete_cmd_postfix": ") ",
     "delete_cmd_prefix": "rm(",
     "library": "var_list.r",
     "varRefreshCmd": "cat(var_dic_list()) "
    }
   },
   "types_to_exclude": [
    "module",
    "function",
    "builtin_function_or_method",
    "instance",
    "_Feature"
   ],
   "window_display": false
  }
 },
 "nbformat": 4,
 "nbformat_minor": 1
}
