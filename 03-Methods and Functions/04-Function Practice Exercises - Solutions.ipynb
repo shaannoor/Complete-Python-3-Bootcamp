{
 "cells": [
  {
   "cell_type": "markdown",
   "metadata": {},
   "source": [
    "# Function Practice Exercises - Solutions\n",
    "\n",
    "Problems are arranged in increasing difficulty:\n",
    "* Warmup - these can be solved using basic comparisons and methods\n",
    "* Level 1 - these may involve if/then conditional statements and simple methods\n",
    "* Level 2 - these may require iterating over sequences, usually with some kind of loop\n",
    "* Challenging - these will take some creativity to solve"
   ]
  },
  {
   "cell_type": "markdown",
   "metadata": {},
   "source": [
    "## WARMUP SECTION:"
   ]
  },
  {
   "cell_type": "markdown",
   "metadata": {},
   "source": [
    "#### LESSER OF TWO EVENS: Write a function that returns the lesser of two given numbers *if* both numbers are even, but returns the greater if one or both numbers are odd\n",
    "    lesser_of_two_evens(2,4) --> 2\n",
    "    lesser_of_two_evens(2,5) --> 5"
   ]
  },
  {
   "cell_type": "code",
   "execution_count": 1,
   "metadata": {},
   "outputs": [],
   "source": [
    "def lesser_of_two_evens(a,b):\n",
    "    if a%2 == 0 and b%2 == 0:\n",
    "        return min(a,b)\n",
    "    else:\n",
    "        return max(a,b)"
   ]
  },
  {
   "cell_type": "code",
   "execution_count": 2,
   "metadata": {},
   "outputs": [
    {
     "data": {
      "text/plain": [
       "2"
      ]
     },
     "execution_count": 2,
     "metadata": {},
     "output_type": "execute_result"
    }
   ],
   "source": [
    "# Check\n",
    "lesser_of_two_evens(2,4)"
   ]
  },
  {
   "cell_type": "code",
   "execution_count": 3,
   "metadata": {},
   "outputs": [
    {
     "data": {
      "text/plain": [
       "5"
      ]
     },
     "execution_count": 3,
     "metadata": {},
     "output_type": "execute_result"
    }
   ],
   "source": [
    "# Check\n",
    "lesser_of_two_evens(2,5)"
   ]
  },
  {
   "cell_type": "markdown",
   "metadata": {},
   "source": [
    "#### ANIMAL CRACKERS: Write a function takes a two-word string and returns True if both words begin with same letter\n",
    "    animal_crackers('Levelheaded Llama') --> True\n",
    "    animal_crackers('Crazy Kangaroo') --> False"
   ]
  },
  {
   "cell_type": "code",
   "execution_count": 4,
   "metadata": {},
   "outputs": [],
   "source": [
    "def animal_crackers(text):\n",
    "    wordlist = text.split()\n",
    "    return wordlist[0][0] == wordlist[1][0]"
   ]
  },
  {
   "cell_type": "code",
   "execution_count": 5,
   "metadata": {},
   "outputs": [
    {
     "data": {
      "text/plain": [
       "True"
      ]
     },
     "execution_count": 5,
     "metadata": {},
     "output_type": "execute_result"
    }
   ],
   "source": [
    "# Check\n",
    "animal_crackers('Levelheaded Llama')"
   ]
  },
  {
   "cell_type": "code",
   "execution_count": 6,
   "metadata": {},
   "outputs": [
    {
     "data": {
      "text/plain": [
       "False"
      ]
     },
     "execution_count": 6,
     "metadata": {},
     "output_type": "execute_result"
    }
   ],
   "source": [
    "# Check\n",
    "animal_crackers('Crazy Kangaroo')"
   ]
  },
  {
   "cell_type": "markdown",
   "metadata": {},
   "source": [
    "#### MAKES TWENTY: Given two integers, return True if the sum of the integers is 20 *or* if one of the integers is 20. If not, return False\n",
    "\n",
    "    makes_twenty(20,10) --> True\n",
    "    makes_twenty(12,8) --> True\n",
    "    makes_twenty(2,3) --> False"
   ]
  },
  {
   "cell_type": "code",
   "execution_count": 7,
   "metadata": {},
   "outputs": [],
   "source": [
    "def makes_twenty(n1,n2):\n",
    "    return (n1+n2)==20 or n1==20 or n2==20"
   ]
  },
  {
   "cell_type": "code",
   "execution_count": 8,
   "metadata": {},
   "outputs": [
    {
     "data": {
      "text/plain": [
       "True"
      ]
     },
     "execution_count": 8,
     "metadata": {},
     "output_type": "execute_result"
    }
   ],
   "source": [
    "# Check\n",
    "makes_twenty(20,10)"
   ]
  },
  {
   "cell_type": "code",
   "execution_count": 9,
   "metadata": {},
   "outputs": [
    {
     "data": {
      "text/plain": [
       "True"
      ]
     },
     "execution_count": 9,
     "metadata": {},
     "output_type": "execute_result"
    }
   ],
   "source": [
    "# Check\n",
    "makes_twenty(12,8)"
   ]
  },
  {
   "cell_type": "code",
   "execution_count": 10,
   "metadata": {},
   "outputs": [
    {
     "data": {
      "text/plain": [
       "False"
      ]
     },
     "execution_count": 10,
     "metadata": {},
     "output_type": "execute_result"
    }
   ],
   "source": [
    "#Check\n",
    "makes_twenty(2,3)"
   ]
  },
  {
   "cell_type": "markdown",
   "metadata": {},
   "source": [
    "# LEVEL 1 PROBLEMS"
   ]
  },
  {
   "cell_type": "markdown",
   "metadata": {},
   "source": [
    "#### OLD MACDONALD: Write a function that capitalizes the first and fourth letters of a name\n",
    "     \n",
    "    old_macdonald('macdonald') --> MacDonald\n",
    "    \n",
    "Note: `'macdonald'.capitalize()` returns `'Macdonald'`"
   ]
  },
  {
   "cell_type": "code",
   "execution_count": 11,
   "metadata": {},
   "outputs": [],
   "source": [
    "def old_macdonald(name):\n",
    "    if len(name) > 3:\n",
    "        return name[:3].capitalize() + name[3:].capitalize()\n",
    "    else:\n",
    "        return 'Name is too short!'"
   ]
  },
  {
   "cell_type": "code",
   "execution_count": 12,
   "metadata": {},
   "outputs": [
    {
     "data": {
      "text/plain": [
       "'MacDonald'"
      ]
     },
     "execution_count": 12,
     "metadata": {},
     "output_type": "execute_result"
    }
   ],
   "source": [
    "# Check\n",
    "old_macdonald('macdonald')"
   ]
  },
  {
   "cell_type": "markdown",
   "metadata": {},
   "source": [
    "#### MASTER YODA: Given a sentence, return a sentence with the words reversed\n",
    "\n",
    "    master_yoda('I am home') --> 'home am I'\n",
    "    master_yoda('We are ready') --> 'ready are We'"
   ]
  },
  {
   "cell_type": "code",
   "execution_count": 13,
   "metadata": {},
   "outputs": [],
   "source": [
    "def master_yoda(text):\n",
    "    return ' '.join(text.split()[::-1])"
   ]
  },
  {
   "cell_type": "code",
   "execution_count": 14,
   "metadata": {},
   "outputs": [
    {
     "data": {
      "text/plain": [
       "'home am I'"
      ]
     },
     "execution_count": 14,
     "metadata": {},
     "output_type": "execute_result"
    }
   ],
   "source": [
    "# Check\n",
    "master_yoda('I am home')"
   ]
  },
  {
   "cell_type": "code",
   "execution_count": 15,
   "metadata": {},
   "outputs": [
    {
     "data": {
      "text/plain": [
       "'ready are We'"
      ]
     },
     "execution_count": 15,
     "metadata": {},
     "output_type": "execute_result"
    }
   ],
   "source": [
    "# Check\n",
    "master_yoda('We are ready')"
   ]
  },
  {
   "cell_type": "markdown",
   "metadata": {},
   "source": [
    "#### ALMOST THERE: Given an integer n, return True if n is within 10 of either 100 or 200\n",
    "\n",
    "    almost_there(90) --> True\n",
    "    almost_there(104) --> True\n",
    "    almost_there(150) --> False\n",
    "    almost_there(209) --> True\n",
    "    \n",
    "NOTE: `abs(num)` returns the absolute value of a number"
   ]
  },
  {
   "cell_type": "code",
   "execution_count": 16,
   "metadata": {},
   "outputs": [],
   "source": [
    "def almost_there(n):\n",
    "    return ((abs(100 - n) <= 10) or (abs(200 - n) <= 10))"
   ]
  },
  {
   "cell_type": "code",
   "execution_count": 17,
   "metadata": {},
   "outputs": [
    {
     "data": {
      "text/plain": [
       "True"
      ]
     },
     "execution_count": 17,
     "metadata": {},
     "output_type": "execute_result"
    }
   ],
   "source": [
    "# Check\n",
    "almost_there(90)"
   ]
  },
  {
   "cell_type": "code",
   "execution_count": 18,
   "metadata": {},
   "outputs": [
    {
     "data": {
      "text/plain": [
       "True"
      ]
     },
     "execution_count": 18,
     "metadata": {},
     "output_type": "execute_result"
    }
   ],
   "source": [
    "# Check\n",
    "almost_there(104)"
   ]
  },
  {
   "cell_type": "code",
   "execution_count": 19,
   "metadata": {},
   "outputs": [
    {
     "data": {
      "text/plain": [
       "False"
      ]
     },
     "execution_count": 19,
     "metadata": {},
     "output_type": "execute_result"
    }
   ],
   "source": [
    "# Check\n",
    "almost_there(150)"
   ]
  },
  {
   "cell_type": "code",
   "execution_count": 20,
   "metadata": {},
   "outputs": [
    {
     "data": {
      "text/plain": [
       "True"
      ]
     },
     "execution_count": 20,
     "metadata": {},
     "output_type": "execute_result"
    }
   ],
   "source": [
    "# Check\n",
    "almost_there(209)"
   ]
  },
  {
   "cell_type": "markdown",
   "metadata": {},
   "source": [
    "# LEVEL 2 PROBLEMS"
   ]
  },
  {
   "cell_type": "markdown",
   "metadata": {},
   "source": [
    "#### FIND 33: \n",
    "\n",
    "Given a list of ints, return True if the array contains a 3 next to a 3 somewhere.\n",
    "\n",
    "    has_33([1, 3, 3]) → True\n",
    "    has_33([1, 3, 1, 3]) → False\n",
    "    has_33([3, 1, 3]) → False"
   ]
  },
  {
   "cell_type": "code",
   "execution_count": 21,
   "metadata": {},
   "outputs": [],
   "source": [
    "def has_33(nums):\n",
    "    for i in range(0, len(nums)-1):\n",
    "      \n",
    "        # nicer looking alternative in commented code\n",
    "        #if nums[i] == 3 and nums[i+1] == 3:\n",
    "    \n",
    "        if nums[i:i+2] == [3,3]:\n",
    "            return True  \n",
    "    \n",
    "    return False"
   ]
  },
  {
   "cell_type": "code",
   "execution_count": 22,
   "metadata": {},
   "outputs": [
    {
     "data": {
      "text/plain": [
       "True"
      ]
     },
     "execution_count": 22,
     "metadata": {},
     "output_type": "execute_result"
    }
   ],
   "source": [
    "# Check\n",
    "has_33([1, 3, 3])"
   ]
  },
  {
   "cell_type": "code",
   "execution_count": 23,
   "metadata": {},
   "outputs": [
    {
     "data": {
      "text/plain": [
       "False"
      ]
     },
     "execution_count": 23,
     "metadata": {},
     "output_type": "execute_result"
    }
   ],
   "source": [
    "# Check\n",
    "has_33([1, 3, 1, 3])"
   ]
  },
  {
   "cell_type": "code",
   "execution_count": 24,
   "metadata": {},
   "outputs": [
    {
     "data": {
      "text/plain": [
       "False"
      ]
     },
     "execution_count": 24,
     "metadata": {},
     "output_type": "execute_result"
    }
   ],
   "source": [
    "# Check\n",
    "has_33([3, 1, 3])"
   ]
  },
  {
   "cell_type": "markdown",
   "metadata": {},
   "source": [
    "#### PAPER DOLL: Given a string, return a string where for every character in the original there are three characters\n",
    "    paper_doll('Hello') --> 'HHHeeellllllooo'\n",
    "    paper_doll('Mississippi') --> 'MMMiiissssssiiippppppiii'"
   ]
  },
  {
   "cell_type": "code",
   "execution_count": 25,
   "metadata": {},
   "outputs": [],
   "source": [
    "def paper_doll(text):\n",
    "    result = ''\n",
    "    for char in text:\n",
    "        result += char * 3\n",
    "    return result"
   ]
  },
  {
   "cell_type": "code",
   "execution_count": 26,
   "metadata": {},
   "outputs": [
    {
     "data": {
      "text/plain": [
       "'HHHeeellllllooo'"
      ]
     },
     "execution_count": 26,
     "metadata": {},
     "output_type": "execute_result"
    }
   ],
   "source": [
    "# Check\n",
    "paper_doll('Hello')"
   ]
  },
  {
   "cell_type": "code",
   "execution_count": 27,
   "metadata": {},
   "outputs": [
    {
     "data": {
      "text/plain": [
       "'MMMiiissssssiiissssssiiippppppiii'"
      ]
     },
     "execution_count": 27,
     "metadata": {},
     "output_type": "execute_result"
    }
   ],
   "source": [
    "# Check\n",
    "paper_doll('Mississippi')"
   ]
  },
  {
   "cell_type": "markdown",
   "metadata": {},
   "source": [
    "#### BLACKJACK: Given three integers between 1 and 11, if their sum is less than or equal to 21, return their sum. If their sum exceeds 21 *and* there's an eleven, reduce the total sum by 10. Finally, if the sum (even after adjustment) exceeds 21, return 'BUST'\n",
    "    blackjack(5,6,7) --> 18\n",
    "    blackjack(9,9,9) --> 'BUST'\n",
    "    blackjack(9,9,11) --> 19"
   ]
  },
  {
   "cell_type": "code",
   "execution_count": 28,
   "metadata": {},
   "outputs": [],
   "source": [
    "def blackjack(a,b,c):\n",
    "    \n",
    "    if sum((a,b,c)) <= 21:\n",
    "        return sum((a,b,c))\n",
    "    elif sum((a,b,c)) <=31 and 11 in (a,b,c):\n",
    "        return sum((a,b,c)) - 10\n",
    "    else:\n",
    "        return 'BUST'"
   ]
  },
  {
   "cell_type": "code",
   "execution_count": 29,
   "metadata": {},
   "outputs": [
    {
     "data": {
      "text/plain": [
       "18"
      ]
     },
     "execution_count": 29,
     "metadata": {},
     "output_type": "execute_result"
    }
   ],
   "source": [
    "# Check\n",
    "blackjack(5,6,7)"
   ]
  },
  {
   "cell_type": "code",
   "execution_count": 30,
   "metadata": {},
   "outputs": [
    {
     "data": {
      "text/plain": [
       "'BUST'"
      ]
     },
     "execution_count": 30,
     "metadata": {},
     "output_type": "execute_result"
    }
   ],
   "source": [
    "# Check\n",
    "blackjack(9,9,9)"
   ]
  },
  {
   "cell_type": "code",
   "execution_count": 31,
   "metadata": {},
   "outputs": [
    {
     "data": {
      "text/plain": [
       "19"
      ]
     },
     "execution_count": 31,
     "metadata": {},
     "output_type": "execute_result"
    }
   ],
   "source": [
    "# Check\n",
    "blackjack(9,9,11)"
   ]
  },
  {
   "cell_type": "markdown",
   "metadata": {},
   "source": [
    "#### SUMMER OF '69: Return the sum of the numbers in the array, except ignore sections of numbers starting with a 6 and extending to the next 9 (every 6 will be followed by at least one 9). Return 0 for no numbers.\n",
    " \n",
    "    summer_69([1, 3, 5]) --> 9\n",
    "    summer_69([4, 5, 6, 7, 8, 9]) --> 9\n",
    "    summer_69([2, 1, 6, 9, 11]) --> 14"
   ]
  },
  {
   "cell_type": "code",
   "execution_count": 32,
   "metadata": {},
   "outputs": [],
   "source": [
    "def summer_69(arr):\n",
    "    total = 0\n",
    "    add = True\n",
    "    for num in arr:\n",
    "        while add:\n",
    "            if num != 6:\n",
    "                total += num\n",
    "                break\n",
    "            else:\n",
    "                add = False\n",
    "        while not add:\n",
    "            if num != 9:\n",
    "                break\n",
    "            else:\n",
    "                add = True\n",
    "                break\n",
    "    return total"
   ]
  },
  {
   "cell_type": "code",
   "execution_count": 33,
   "metadata": {},
   "outputs": [
    {
     "data": {
      "text/plain": [
       "9"
      ]
     },
     "execution_count": 33,
     "metadata": {},
     "output_type": "execute_result"
    }
   ],
   "source": [
    "# Check\n",
    "summer_69([1, 3, 5])"
   ]
  },
  {
   "cell_type": "code",
   "execution_count": 34,
   "metadata": {},
   "outputs": [
    {
     "data": {
      "text/plain": [
       "9"
      ]
     },
     "execution_count": 34,
     "metadata": {},
     "output_type": "execute_result"
    }
   ],
   "source": [
    "# Check\n",
    "summer_69([4, 5, 6, 7, 8, 9])"
   ]
  },
  {
   "cell_type": "code",
   "execution_count": 35,
   "metadata": {},
   "outputs": [
    {
     "data": {
      "text/plain": [
       "14"
      ]
     },
     "execution_count": 35,
     "metadata": {},
     "output_type": "execute_result"
    }
   ],
   "source": [
    "# Check\n",
    "summer_69([2, 1, 6, 9, 11])"
   ]
  },
  {
   "cell_type": "markdown",
   "metadata": {},
   "source": [
    "# CHALLENGING PROBLEMS"
   ]
  },
  {
   "cell_type": "markdown",
   "metadata": {},
   "source": [
    "#### SPY GAME: Write a function that takes in a list of integers and returns True if it contains 007 in order\n",
    "\n",
    "     spy_game([1,2,4,0,0,7,5]) --> True\n",
    "     spy_game([1,0,2,4,0,5,7]) --> True\n",
    "     spy_game([1,7,2,0,4,5,0]) --> False\n"
   ]
  },
  {
   "cell_type": "code",
   "execution_count": 36,
   "metadata": {},
   "outputs": [],
   "source": [
    "def spy_game(nums):\n",
    "\n",
    "    code = [0,0,7,'x']\n",
    "    \n",
    "    for num in nums:\n",
    "        if num == code[0]:\n",
    "            code.pop(0)   # code.remove(num) also works\n",
    "       \n",
    "    return len(code) == 1"
   ]
  },
  {
   "cell_type": "code",
   "execution_count": 37,
   "metadata": {},
   "outputs": [
    {
     "data": {
      "text/plain": [
       "True"
      ]
     },
     "execution_count": 37,
     "metadata": {},
     "output_type": "execute_result"
    }
   ],
   "source": [
    "# Check\n",
    "spy_game([1,2,4,0,0,7,5])"
   ]
  },
  {
   "cell_type": "code",
   "execution_count": 38,
   "metadata": {},
   "outputs": [
    {
     "data": {
      "text/plain": [
       "True"
      ]
     },
     "execution_count": 38,
     "metadata": {},
     "output_type": "execute_result"
    }
   ],
   "source": [
    "# Check\n",
    "spy_game([1,0,2,4,0,5,7])"
   ]
  },
  {
   "cell_type": "code",
   "execution_count": 39,
   "metadata": {},
   "outputs": [
    {
     "data": {
      "text/plain": [
       "False"
      ]
     },
     "execution_count": 39,
     "metadata": {},
     "output_type": "execute_result"
    }
   ],
   "source": [
    "# Check\n",
    "spy_game([1,7,2,0,4,5,0])"
   ]
  },
  {
   "cell_type": "markdown",
   "metadata": {},
   "source": [
    "#### COUNT PRIMES: Write a function that returns the *number* of prime numbers that exist up to and including a given number\n",
    "    count_primes(100) --> 25\n",
    "\n",
    "By convention, 0 and 1 are not prime."
   ]
  },
  {
   "cell_type": "code",
   "execution_count": 40,
   "metadata": {},
   "outputs": [],
   "source": [
    "def count_primes(num):\n",
    "    primes = [2]\n",
    "    x = 3\n",
    "    if num < 2:  # for the case of num = 0 or 1\n",
    "        return 0\n",
    "    while x <= num:\n",
    "        for y in range(3,x,2):  # test all odd factors up to x-1\n",
    "            if x%y == 0:\n",
    "                x += 2\n",
    "                break\n",
    "        else:\n",
    "            primes.append(x)\n",
    "            x += 2\n",
    "    print(primes)\n",
    "    return len(primes)\n",
    "                "
   ]
  },
  {
   "cell_type": "code",
   "execution_count": 41,
   "metadata": {},
   "outputs": [
    {
     "name": "stdout",
     "output_type": "stream",
     "text": [
      "[2, 3, 5, 7, 11, 13, 17, 19, 23, 29, 31, 37, 41, 43, 47, 53, 59, 61, 67, 71, 73, 79, 83, 89, 97]\n"
     ]
    },
    {
     "data": {
      "text/plain": [
       "25"
      ]
     },
     "execution_count": 41,
     "metadata": {},
     "output_type": "execute_result"
    }
   ],
   "source": [
    "# Check\n",
    "count_primes(100)"
   ]
  },
  {
   "cell_type": "markdown",
   "metadata": {},
   "source": [
    "BONUS: Here's a faster version that makes use of the prime numbers we're collecting as we go!"
   ]
  },
  {
   "cell_type": "code",
   "execution_count": 11,
   "metadata": {
    "ExecuteTime": {
     "end_time": "2020-06-14T05:01:02.828747Z",
     "start_time": "2020-06-14T05:01:02.822757Z"
    }
   },
   "outputs": [],
   "source": [
    "def count_primes2(num):\n",
    "    primes = [2]\n",
    "    x = 3\n",
    "    if num < 2:\n",
    "        return 0\n",
    "    while x <= num:\n",
    "        for y in primes:  # use the primes list!\n",
    "            if x%y == 0:\n",
    "                x += 2\n",
    "                break\n",
    "        else:\n",
    "            primes.append(x)\n",
    "            x += 2\n",
    "    #print(primes)\n",
    "    return len(primes)"
   ]
  },
  {
   "cell_type": "code",
   "execution_count": 13,
   "metadata": {
    "ExecuteTime": {
     "end_time": "2020-06-14T05:02:22.716054Z",
     "start_time": "2020-06-14T05:02:20.167001Z"
    }
   },
   "outputs": [
    {
     "data": {
      "text/plain": [
       "9592"
      ]
     },
     "execution_count": 13,
     "metadata": {},
     "output_type": "execute_result"
    }
   ],
   "source": [
    "count_primes2(100000)"
   ]
  },
  {
   "cell_type": "markdown",
   "metadata": {},
   "source": [
    "-----\n",
    "### Just for fun, not a real problem :)\n",
    "\n",
    "#### PRINT BIG: Write a function that takes in a single letter, and returns a 5x5 representation of that letter\n",
    "    print_big('a')\n",
    "    \n",
    "    out:   *  \n",
    "          * *\n",
    "         *****\n",
    "         *   *\n",
    "         *   *\n",
    "HINT: Consider making a dictionary of possible patterns, and mapping the alphabet to specific 5-line combinations of patterns. <br>For purposes of this exercise, it's ok if your dictionary stops at \"E\"."
   ]
  },
  {
   "cell_type": "code",
   "execution_count": 2,
   "metadata": {
    "ExecuteTime": {
     "end_time": "2020-06-13T04:12:59.718256Z",
     "start_time": "2020-06-13T04:12:59.712269Z"
    }
   },
   "outputs": [],
   "source": [
    "def print_big(letter):\n",
    "    patterns = {1:'  *  ',2:' * * ',3:'*   *',4:'*****',5:'**** ',6:'   * ',7:' *   ',8:'*   * ',9:'*    '}\n",
    "    alphabet = {'A':[1,2,4,3,3],'B':[5,3,5,3,5],'C':[4,9,9,9,4],'D':[5,3,3,3,5],'E':[4,9,4,9,4]}\n",
    "    for pattern in alphabet[letter.upper()]:\n",
    "        print(patterns[pattern])"
   ]
  },
  {
   "cell_type": "code",
   "execution_count": 5,
   "metadata": {
    "ExecuteTime": {
     "end_time": "2020-06-13T04:13:18.860007Z",
     "start_time": "2020-06-13T04:13:18.855051Z"
    }
   },
   "outputs": [
    {
     "name": "stdout",
     "output_type": "stream",
     "text": [
      "**** \n",
      "*   *\n",
      "*   *\n",
      "*   *\n",
      "**** \n"
     ]
    }
   ],
   "source": [
    "print_big('d')"
   ]
  },
  {
   "cell_type": "code",
   "execution_count": 14,
   "metadata": {
    "ExecuteTime": {
     "end_time": "2020-06-14T05:37:25.910138Z",
     "start_time": "2020-06-14T05:37:25.907110Z"
    }
   },
   "outputs": [],
   "source": [
    "import numpy"
   ]
  },
  {
   "cell_type": "markdown",
   "metadata": {},
   "source": [
    "## Great Job!"
   ]
  },
  {
   "cell_type": "code",
   "execution_count": 17,
   "metadata": {
    "ExecuteTime": {
     "end_time": "2020-06-14T05:39:02.817507Z",
     "start_time": "2020-06-14T05:39:02.793572Z"
    }
   },
   "outputs": [
    {
     "data": {
      "text/plain": [
       "dict_items([('__name__', 'numpy'), ('__doc__', '\\nNumPy\\n=====\\n\\nProvides\\n  1. An array object of arbitrary homogeneous items\\n  2. Fast mathematical operations over arrays\\n  3. Linear Algebra, Fourier Transforms, Random Number Generation\\n\\nHow to use the documentation\\n----------------------------\\nDocumentation is available in two forms: docstrings provided\\nwith the code, and a loose standing reference guide, available from\\n`the NumPy homepage <https://www.scipy.org>`_.\\n\\nWe recommend exploring the docstrings using\\n`IPython <https://ipython.org>`_, an advanced Python shell with\\nTAB-completion and introspection capabilities.  See below for further\\ninstructions.\\n\\nThe docstring examples assume that `numpy` has been imported as `np`::\\n\\n  >>> import numpy as np\\n\\nCode snippets are indicated by three greater-than signs::\\n\\n  >>> x = 42\\n  >>> x = x + 1\\n\\nUse the built-in ``help`` function to view a function\\'s docstring::\\n\\n  >>> help(np.sort)\\n  ... # doctest: +SKIP\\n\\nFor some objects, ``np.info(obj)`` may provide additional help.  This is\\nparticularly true if you see the line \"Help on ufunc object:\" at the top\\nof the help() page.  Ufuncs are implemented in C, not Python, for speed.\\nThe native Python help() does not know how to view their help, but our\\nnp.info() function does.\\n\\nTo search for documents containing a keyword, do::\\n\\n  >>> np.lookfor(\\'keyword\\')\\n  ... # doctest: +SKIP\\n\\nGeneral-purpose documents like a glossary and help on the basic concepts\\nof numpy are available under the ``doc`` sub-module::\\n\\n  >>> from numpy import doc\\n  >>> help(doc)\\n  ... # doctest: +SKIP\\n\\nAvailable subpackages\\n---------------------\\ndoc\\n    Topical documentation on broadcasting, indexing, etc.\\nlib\\n    Basic functions used by several sub-packages.\\nrandom\\n    Core Random Tools\\nlinalg\\n    Core Linear Algebra Tools\\nfft\\n    Core FFT routines\\npolynomial\\n    Polynomial tools\\ntesting\\n    NumPy testing tools\\nf2py\\n    Fortran to Python Interface Generator.\\ndistutils\\n    Enhancements to distutils with support for\\n    Fortran compilers support and more.\\n\\nUtilities\\n---------\\ntest\\n    Run numpy unittests\\nshow_config\\n    Show numpy build configuration\\ndual\\n    Overwrite certain functions with high-performance Scipy tools\\nmatlib\\n    Make everything matrices.\\n__version__\\n    NumPy version string\\n\\nViewing documentation using IPython\\n-----------------------------------\\nStart IPython with the NumPy profile (``ipython -p numpy``), which will\\nimport `numpy` under the alias `np`.  Then, use the ``cpaste`` command to\\npaste examples into the shell.  To see which functions are available in\\n`numpy`, type ``np.<TAB>`` (where ``<TAB>`` refers to the TAB key), or use\\n``np.*cos*?<ENTER>`` (where ``<ENTER>`` refers to the ENTER key) to narrow\\ndown the list.  To view the docstring for a function, use\\n``np.cos?<ENTER>`` (to view the docstring) and ``np.cos??<ENTER>`` (to view\\nthe source code).\\n\\nCopies vs. in-place operation\\n-----------------------------\\nMost of the functions in `numpy` return a copy of the array argument\\n(e.g., `np.sort`).  In-place versions of these functions are often\\navailable as array methods, i.e. ``x = np.array([1,2,3]); x.sort()``.\\nExceptions to this rule are documented.\\n\\n'), ('__package__', 'numpy'), ('__loader__', <_frozen_importlib_external.SourceFileLoader object at 0x0000017620116848>), ('__spec__', ModuleSpec(name='numpy', loader=<_frozen_importlib_external.SourceFileLoader object at 0x0000017620116848>, origin='C:\\\\Users\\\\hxs104000\\\\Anaconda3\\\\lib\\\\site-packages\\\\numpy\\\\__init__.py', submodule_search_locations=['C:\\\\Users\\\\hxs104000\\\\Anaconda3\\\\lib\\\\site-packages\\\\numpy'])), ('__path__', ['C:\\\\Users\\\\hxs104000\\\\Anaconda3\\\\lib\\\\site-packages\\\\numpy']), ('__file__', 'C:\\\\Users\\\\hxs104000\\\\Anaconda3\\\\lib\\\\site-packages\\\\numpy\\\\__init__.py'), ('__cached__', 'C:\\\\Users\\\\hxs104000\\\\Anaconda3\\\\lib\\\\site-packages\\\\numpy\\\\__pycache__\\\\__init__.cpython-37.pyc'), ('__builtins__', {'__name__': 'builtins', '__doc__': \"Built-in functions, exceptions, and other objects.\\n\\nNoteworthy: None is the `nil' object; Ellipsis represents `...' in slices.\", '__package__': '', '__loader__': <class '_frozen_importlib.BuiltinImporter'>, '__spec__': ModuleSpec(name='builtins', loader=<class '_frozen_importlib.BuiltinImporter'>), '__build_class__': <built-in function __build_class__>, '__import__': <built-in function __import__>, 'abs': <built-in function abs>, 'all': <built-in function all>, 'any': <built-in function any>, 'ascii': <built-in function ascii>, 'bin': <built-in function bin>, 'breakpoint': <built-in function breakpoint>, 'callable': <built-in function callable>, 'chr': <built-in function chr>, 'compile': <built-in function compile>, 'delattr': <built-in function delattr>, 'dir': <built-in function dir>, 'divmod': <built-in function divmod>, 'eval': <built-in function eval>, 'exec': <built-in function exec>, 'format': <built-in function format>, 'getattr': <built-in function getattr>, 'globals': <built-in function globals>, 'hasattr': <built-in function hasattr>, 'hash': <built-in function hash>, 'hex': <built-in function hex>, 'id': <built-in function id>, 'input': <bound method Kernel.raw_input of <ipykernel.ipkernel.IPythonKernel object at 0x000001762018DE08>>, 'isinstance': <built-in function isinstance>, 'issubclass': <built-in function issubclass>, 'iter': <built-in function iter>, 'len': <built-in function len>, 'locals': <built-in function locals>, 'max': <built-in function max>, 'min': <built-in function min>, 'next': <built-in function next>, 'oct': <built-in function oct>, 'ord': <built-in function ord>, 'pow': <built-in function pow>, 'print': <built-in function print>, 'repr': <built-in function repr>, 'round': <built-in function round>, 'setattr': <built-in function setattr>, 'sorted': <built-in function sorted>, 'sum': <built-in function sum>, 'vars': <built-in function vars>, 'None': None, 'Ellipsis': Ellipsis, 'NotImplemented': NotImplemented, 'False': False, 'True': True, 'bool': <class 'bool'>, 'memoryview': <class 'memoryview'>, 'bytearray': <class 'bytearray'>, 'bytes': <class 'bytes'>, 'classmethod': <class 'classmethod'>, 'complex': <class 'complex'>, 'dict': <class 'dict'>, 'enumerate': <class 'enumerate'>, 'filter': <class 'filter'>, 'float': <class 'float'>, 'frozenset': <class 'frozenset'>, 'property': <class 'property'>, 'int': <class 'int'>, 'list': <class 'list'>, 'map': <class 'map'>, 'object': <class 'object'>, 'range': <class 'range'>, 'reversed': <class 'reversed'>, 'set': <class 'set'>, 'slice': <class 'slice'>, 'staticmethod': <class 'staticmethod'>, 'str': <class 'str'>, 'super': <class 'super'>, 'tuple': <class 'tuple'>, 'type': <class 'type'>, 'zip': <class 'zip'>, '__debug__': True, 'BaseException': <class 'BaseException'>, 'Exception': <class 'Exception'>, 'TypeError': <class 'TypeError'>, 'StopAsyncIteration': <class 'StopAsyncIteration'>, 'StopIteration': <class 'StopIteration'>, 'GeneratorExit': <class 'GeneratorExit'>, 'SystemExit': <class 'SystemExit'>, 'KeyboardInterrupt': <class 'KeyboardInterrupt'>, 'ImportError': <class 'ImportError'>, 'ModuleNotFoundError': <class 'ModuleNotFoundError'>, 'OSError': <class 'OSError'>, 'EnvironmentError': <class 'OSError'>, 'IOError': <class 'OSError'>, 'WindowsError': <class 'OSError'>, 'EOFError': <class 'EOFError'>, 'RuntimeError': <class 'RuntimeError'>, 'RecursionError': <class 'RecursionError'>, 'NotImplementedError': <class 'NotImplementedError'>, 'NameError': <class 'NameError'>, 'UnboundLocalError': <class 'UnboundLocalError'>, 'AttributeError': <class 'AttributeError'>, 'SyntaxError': <class 'SyntaxError'>, 'IndentationError': <class 'IndentationError'>, 'TabError': <class 'TabError'>, 'LookupError': <class 'LookupError'>, 'IndexError': <class 'IndexError'>, 'KeyError': <class 'KeyError'>, 'ValueError': <class 'ValueError'>, 'UnicodeError': <class 'UnicodeError'>, 'UnicodeEncodeError': <class 'UnicodeEncodeError'>, 'UnicodeDecodeError': <class 'UnicodeDecodeError'>, 'UnicodeTranslateError': <class 'UnicodeTranslateError'>, 'AssertionError': <class 'AssertionError'>, 'ArithmeticError': <class 'ArithmeticError'>, 'FloatingPointError': <class 'FloatingPointError'>, 'OverflowError': <class 'OverflowError'>, 'ZeroDivisionError': <class 'ZeroDivisionError'>, 'SystemError': <class 'SystemError'>, 'ReferenceError': <class 'ReferenceError'>, 'MemoryError': <class 'MemoryError'>, 'BufferError': <class 'BufferError'>, 'Warning': <class 'Warning'>, 'UserWarning': <class 'UserWarning'>, 'DeprecationWarning': <class 'DeprecationWarning'>, 'PendingDeprecationWarning': <class 'PendingDeprecationWarning'>, 'SyntaxWarning': <class 'SyntaxWarning'>, 'RuntimeWarning': <class 'RuntimeWarning'>, 'FutureWarning': <class 'FutureWarning'>, 'ImportWarning': <class 'ImportWarning'>, 'UnicodeWarning': <class 'UnicodeWarning'>, 'BytesWarning': <class 'BytesWarning'>, 'ResourceWarning': <class 'ResourceWarning'>, 'ConnectionError': <class 'ConnectionError'>, 'BlockingIOError': <class 'BlockingIOError'>, 'BrokenPipeError': <class 'BrokenPipeError'>, 'ChildProcessError': <class 'ChildProcessError'>, 'ConnectionAbortedError': <class 'ConnectionAbortedError'>, 'ConnectionRefusedError': <class 'ConnectionRefusedError'>, 'ConnectionResetError': <class 'ConnectionResetError'>, 'FileExistsError': <class 'FileExistsError'>, 'FileNotFoundError': <class 'FileNotFoundError'>, 'IsADirectoryError': <class 'IsADirectoryError'>, 'NotADirectoryError': <class 'NotADirectoryError'>, 'InterruptedError': <class 'InterruptedError'>, 'PermissionError': <class 'PermissionError'>, 'ProcessLookupError': <class 'ProcessLookupError'>, 'TimeoutError': <class 'TimeoutError'>, 'open': <built-in function open>, 'copyright': Copyright (c) 2001-2019 Python Software Foundation.\n",
       "All Rights Reserved.\n",
       "\n",
       "Copyright (c) 2000 BeOpen.com.\n",
       "All Rights Reserved.\n",
       "\n",
       "Copyright (c) 1995-2001 Corporation for National Research Initiatives.\n",
       "All Rights Reserved.\n",
       "\n",
       "Copyright (c) 1991-1995 Stichting Mathematisch Centrum, Amsterdam.\n",
       "All Rights Reserved., 'credits':     Thanks to CWI, CNRI, BeOpen.com, Zope Corporation and a cast of thousands\n",
       "    for supporting Python development.  See www.python.org for more information., 'license': See https://www.python.org/psf/license/, 'help': Type help() for interactive help, or help(object) for help about object., '__IPYTHON__': True, 'display': <function display at 0x000001761E3E4C18>, 'get_ipython': <bound method InteractiveShell.get_ipython of <ipykernel.zmqshell.ZMQInteractiveShell object at 0x000001762018DFC8>>}), ('division', _Feature((2, 2, 0, 'alpha', 2), (3, 0, 0, 'alpha', 0), 8192)), ('absolute_import', _Feature((2, 5, 0, 'alpha', 1), (3, 0, 0, 'alpha', 0), 16384)), ('print_function', _Feature((2, 6, 0, 'alpha', 2), (3, 0, 0, 'alpha', 0), 65536)), ('sys', <module 'sys' (built-in)>), ('warnings', <module 'warnings' from 'C:\\\\Users\\\\hxs104000\\\\Anaconda3\\\\lib\\\\warnings.py'>), ('_globals', <module 'numpy._globals' from 'C:\\\\Users\\\\hxs104000\\\\Anaconda3\\\\lib\\\\site-packages\\\\numpy\\\\_globals.py'>), ('ModuleDeprecationWarning', <class 'numpy.ModuleDeprecationWarning'>), ('VisibleDeprecationWarning', <class 'numpy.VisibleDeprecationWarning'>), ('_NoValue', <no value>), ('__NUMPY_SETUP__', False), ('__config__', <module 'numpy.__config__' from 'C:\\\\Users\\\\hxs104000\\\\Anaconda3\\\\lib\\\\site-packages\\\\numpy\\\\__config__.py'>), ('show_config', <function show at 0x0000017620210B88>), ('version', <module 'numpy.version' from 'C:\\\\Users\\\\hxs104000\\\\Anaconda3\\\\lib\\\\site-packages\\\\numpy\\\\version.py'>), ('__git_revision__', '91118b3363b636f932f7ff6748d8259e9eb2c23a'), ('__version__', '1.18.1'), ('__all__', ['ModuleDeprecationWarning', 'VisibleDeprecationWarning', '__version__', 'show_config', 'char', 'rec', 'memmap', 'newaxis', 'ndarray', 'flatiter', 'nditer', 'nested_iters', 'ufunc', 'arange', 'array', 'zeros', 'count_nonzero', 'empty', 'broadcast', 'dtype', 'fromstring', 'fromfile', 'frombuffer', 'int_asbuffer', 'where', 'argwhere', 'copyto', 'concatenate', 'fastCopyAndTranspose', 'lexsort', 'set_numeric_ops', 'can_cast', 'promote_types', 'min_scalar_type', 'result_type', 'isfortran', 'empty_like', 'zeros_like', 'ones_like', 'correlate', 'convolve', 'inner', 'dot', 'outer', 'vdot', 'roll', 'rollaxis', 'moveaxis', 'cross', 'tensordot', 'little_endian', 'fromiter', 'array_equal', 'array_equiv', 'indices', 'fromfunction', 'isclose', 'isscalar', 'binary_repr', 'base_repr', 'ones', 'identity', 'allclose', 'compare_chararrays', 'putmask', 'flatnonzero', 'Inf', 'inf', 'infty', 'Infinity', 'nan', 'NaN', 'False_', 'True_', 'bitwise_not', 'CLIP', 'RAISE', 'WRAP', 'MAXDIMS', 'BUFSIZE', 'ALLOW_THREADS', 'ComplexWarning', 'full', 'full_like', 'matmul', 'shares_memory', 'may_share_memory', 'MAY_SHARE_BOUNDS', 'MAY_SHARE_EXACT', 'TooHardError', 'AxisError', 'alen', 'all', 'alltrue', 'amax', 'amin', 'any', 'argmax', 'argmin', 'argpartition', 'argsort', 'around', 'choose', 'clip', 'compress', 'cumprod', 'cumproduct', 'cumsum', 'diagonal', 'mean', 'ndim', 'nonzero', 'partition', 'prod', 'product', 'ptp', 'put', 'ravel', 'repeat', 'reshape', 'resize', 'round_', 'searchsorted', 'shape', 'size', 'sometrue', 'sort', 'squeeze', 'std', 'sum', 'swapaxes', 'take', 'trace', 'transpose', 'var', '_UFUNC_API', 'ERR_CALL', 'ERR_DEFAULT', 'ERR_IGNORE', 'ERR_LOG', 'ERR_PRINT', 'ERR_RAISE', 'ERR_WARN', 'FLOATING_POINT_SUPPORT', 'FPE_DIVIDEBYZERO', 'FPE_INVALID', 'FPE_OVERFLOW', 'FPE_UNDERFLOW', 'NAN', 'NINF', 'NZERO', 'PINF', 'PZERO', 'SHIFT_DIVIDEBYZERO', 'SHIFT_INVALID', 'SHIFT_OVERFLOW', 'SHIFT_UNDERFLOW', 'UFUNC_BUFSIZE_DEFAULT', 'UFUNC_PYVALS_NAME', '_add_newdoc_ufunc', 'absolute', 'add', 'arccos', 'arccosh', 'arcsin', 'arcsinh', 'arctan', 'arctan2', 'arctanh', 'bitwise_and', 'bitwise_or', 'bitwise_xor', 'cbrt', 'ceil', 'conj', 'conjugate', 'copysign', 'cos', 'cosh', 'deg2rad', 'degrees', 'divide', 'divmod', 'e', 'equal', 'euler_gamma', 'exp', 'exp2', 'expm1', 'fabs', 'floor', 'floor_divide', 'float_power', 'fmax', 'fmin', 'fmod', 'frexp', 'frompyfunc', 'gcd', 'geterrobj', 'greater', 'greater_equal', 'heaviside', 'hypot', 'invert', 'isfinite', 'isinf', 'isnan', 'isnat', 'lcm', 'ldexp', 'left_shift', 'less', 'less_equal', 'log', 'log10', 'log1p', 'log2', 'logaddexp', 'logaddexp2', 'logical_and', 'logical_not', 'logical_or', 'logical_xor', 'maximum', 'minimum', 'mod', 'modf', 'multiply', 'negative', 'nextafter', 'not_equal', 'pi', 'positive', 'power', 'rad2deg', 'radians', 'reciprocal', 'remainder', 'right_shift', 'rint', 'seterrobj', 'sign', 'signbit', 'sin', 'sinh', 'spacing', 'sqrt', 'square', 'subtract', 'tan', 'tanh', 'true_divide', 'trunc', 'sctypeDict', 'sctypeNA', 'typeDict', 'typeNA', 'sctypes', 'ScalarType', 'obj2sctype', 'cast', 'nbytes', 'sctype2char', 'maximum_sctype', 'issctype', 'typecodes', 'find_common_type', 'issubdtype', 'datetime_data', 'datetime_as_string', 'busday_offset', 'busday_count', 'is_busday', 'busdaycalendar', 'byte', 'ubyte', 'short', 'ushort', 'uint', 'intp', 'uintp', 'longlong', 'ulonglong', 'half', 'double', 'longdouble', 'cfloat', 'cdouble', 'clongdouble', 'void', 'generic', 'number', 'integer', 'inexact', 'signedinteger', 'unsignedinteger', 'floating', 'complexfloating', 'flexible', 'character', 'bool8', 'int64', 'uint64', 'float16', 'float32', 'float64', 'complex64', 'complex128', 'object0', 'bytes0', 'str0', 'void0', 'datetime64', 'timedelta64', 'int32', 'uint32', 'int16', 'uint16', 'int8', 'uint8', 'complex_', 'int0', 'uint0', 'single', 'csingle', 'singlecomplex', 'float_', 'intc', 'uintc', 'int_', 'longfloat', 'clongfloat', 'longcomplex', 'bool_', 'bytes_', 'string_', 'unicode_', 'object_', 'str_', 'array2string', 'array_str', 'array_repr', 'set_string_function', 'set_printoptions', 'get_printoptions', 'printoptions', 'format_float_positional', 'format_float_scientific', 'asarray', 'asanyarray', 'ascontiguousarray', 'asfortranarray', 'require', 'seterr', 'geterr', 'setbufsize', 'getbufsize', 'seterrcall', 'geterrcall', 'errstate', 'alen', 'all', 'alltrue', 'amax', 'amin', 'any', 'argmax', 'argmin', 'argpartition', 'argsort', 'around', 'choose', 'clip', 'compress', 'cumprod', 'cumproduct', 'cumsum', 'diagonal', 'mean', 'ndim', 'nonzero', 'partition', 'prod', 'product', 'ptp', 'put', 'ravel', 'repeat', 'reshape', 'resize', 'round_', 'searchsorted', 'shape', 'size', 'sometrue', 'sort', 'squeeze', 'std', 'sum', 'swapaxes', 'take', 'trace', 'transpose', 'var', 'record', 'recarray', 'format_parser', 'chararray', 'logspace', 'linspace', 'geomspace', 'MachAr', 'finfo', 'iinfo', 'atleast_1d', 'atleast_2d', 'atleast_3d', 'block', 'hstack', 'stack', 'vstack', 'einsum', 'einsum_path', 'matrix', 'bmat', 'mat', 'asmatrix', 'emath', 'math', 'tracemalloc_domain', 'iscomplexobj', 'isrealobj', 'imag', 'iscomplex', 'isreal', 'nan_to_num', 'real', 'real_if_close', 'typename', 'asfarray', 'mintypecode', 'asscalar', 'common_type', 'ravel_multi_index', 'unravel_index', 'mgrid', 'ogrid', 'r_', 'c_', 's_', 'index_exp', 'ix_', 'ndenumerate', 'ndindex', 'fill_diagonal', 'diag_indices', 'diag_indices_from', 'select', 'piecewise', 'trim_zeros', 'copy', 'iterable', 'percentile', 'diff', 'gradient', 'angle', 'unwrap', 'sort_complex', 'disp', 'flip', 'rot90', 'extract', 'place', 'vectorize', 'asarray_chkfinite', 'average', 'bincount', 'digitize', 'cov', 'corrcoef', 'msort', 'median', 'sinc', 'hamming', 'hanning', 'bartlett', 'blackman', 'kaiser', 'trapz', 'i0', 'add_newdoc', 'add_docstring', 'meshgrid', 'delete', 'insert', 'append', 'interp', 'add_newdoc_ufunc', 'quantile', 'column_stack', 'row_stack', 'dstack', 'array_split', 'split', 'hsplit', 'vsplit', 'dsplit', 'apply_over_axes', 'expand_dims', 'apply_along_axis', 'kron', 'tile', 'get_array_wrap', 'take_along_axis', 'put_along_axis', 'broadcast_to', 'broadcast_arrays', 'diag', 'diagflat', 'eye', 'fliplr', 'flipud', 'tri', 'triu', 'tril', 'vander', 'histogram2d', 'mask_indices', 'tril_indices', 'tril_indices_from', 'triu_indices', 'triu_indices_from', 'fix', 'isneginf', 'isposinf', 'pad', 'poly', 'roots', 'polyint', 'polyder', 'polyadd', 'polysub', 'polymul', 'polydiv', 'polyval', 'poly1d', 'polyfit', 'RankWarning', 'issubclass_', 'issubsctype', 'issubdtype', 'deprecate', 'deprecate_with_doc', 'get_include', 'info', 'source', 'who', 'lookfor', 'byte_bounds', 'safe_eval', 'ediff1d', 'intersect1d', 'setxor1d', 'union1d', 'setdiff1d', 'unique', 'in1d', 'isin', 'savetxt', 'loadtxt', 'genfromtxt', 'ndfromtxt', 'mafromtxt', 'recfromtxt', 'recfromcsv', 'load', 'loads', 'save', 'savez', 'savez_compressed', 'packbits', 'unpackbits', 'fromregex', 'DataSource', 'fv', 'pmt', 'nper', 'ipmt', 'ppmt', 'pv', 'rate', 'irr', 'npv', 'mirr', 'nansum', 'nanmax', 'nanmin', 'nanargmax', 'nanargmin', 'nanmean', 'nanmedian', 'nanpercentile', 'nanvar', 'nanstd', 'nanprod', 'nancumsum', 'nancumprod', 'nanquantile', 'histogram', 'histogramdd', 'histogram_bin_edges', 'linalg', 'fft', 'random', 'ctypeslib', 'ma']), ('_distributor_init', <module 'numpy._distributor_init' from 'C:\\\\Users\\\\hxs104000\\\\Anaconda3\\\\lib\\\\site-packages\\\\numpy\\\\_distributor_init.py'>), ('compat', <module 'numpy.compat' from 'C:\\\\Users\\\\hxs104000\\\\Anaconda3\\\\lib\\\\site-packages\\\\numpy\\\\compat\\\\__init__.py'>), ('_pytesttester', <module 'numpy._pytesttester' from 'C:\\\\Users\\\\hxs104000\\\\Anaconda3\\\\lib\\\\site-packages\\\\numpy\\\\_pytesttester.py'>), ('core', <module 'numpy.core' from 'C:\\\\Users\\\\hxs104000\\\\Anaconda3\\\\lib\\\\site-packages\\\\numpy\\\\core\\\\__init__.py'>), ('char', <module 'numpy.core.defchararray' from 'C:\\\\Users\\\\hxs104000\\\\Anaconda3\\\\lib\\\\site-packages\\\\numpy\\\\core\\\\defchararray.py'>), ('rec', <module 'numpy.core.records' from 'C:\\\\Users\\\\hxs104000\\\\Anaconda3\\\\lib\\\\site-packages\\\\numpy\\\\core\\\\records.py'>), ('memmap', <class 'numpy.memmap'>), ('newaxis', None), ('ndarray', <class 'numpy.ndarray'>), ('flatiter', <class 'numpy.flatiter'>), ('nditer', <class 'numpy.nditer'>), ('nested_iters', <built-in function nested_iters>), ('ufunc', <class 'numpy.ufunc'>), ('arange', <built-in function arange>), ('array', <built-in function array>), ('zeros', <built-in function zeros>), ('count_nonzero', <function count_nonzero at 0x000001762030E288>), ('empty', <built-in function empty>), ('broadcast', <class 'numpy.broadcast'>), ('dtype', <class 'numpy.dtype'>), ('fromstring', <built-in function fromstring>), ('fromfile', <built-in function fromfile>), ('frombuffer', <built-in function frombuffer>), ('int_asbuffer', <built-in function int_asbuffer>), ('where', <function where at 0x00000176202A53A8>), ('argwhere', <function argwhere at 0x000001762030E558>), ('copyto', <function copyto at 0x00000176202AB4C8>), ('concatenate', <function concatenate at 0x00000176202A38B8>), ('fastCopyAndTranspose', <built-in function _fastCopyAndTranspose>), ('lexsort', <function lexsort at 0x00000176202A5558>), ('set_numeric_ops', <built-in function set_numeric_ops>), ('can_cast', <function can_cast at 0x00000176202A5708>), ('promote_types', <built-in function promote_types>), ('min_scalar_type', <function min_scalar_type at 0x00000176202A58B8>), ('result_type', <function result_type at 0x00000176202A5A68>), ('isfortran', <function isfortran at 0x000001762030E1F8>), ('empty_like', <function empty_like at 0x00000176202A3828>), ('zeros_like', <function zeros_like at 0x000001762030D8B8>), ('ones_like', <function ones_like at 0x000001762030DD38>), ('correlate', <function correlate at 0x000001762030EA68>), ('convolve', <function convolve at 0x000001762030ECA8>), ('inner', <function inner at 0x00000176202A51F8>), ('dot', <function dot at 0x00000176202A5C18>), ('outer', <function outer at 0x000001762030EEE8>), ('vdot', <function vdot at 0x00000176202A5DC8>), ('roll', <function roll at 0x00000176203143A8>), ('rollaxis', <function rollaxis at 0x00000176203145E8>), ('moveaxis', <function moveaxis at 0x00000176203148B8>), ('cross', <function cross at 0x0000017620314B88>), ('tensordot', <function tensordot at 0x0000017620314168>), ('little_endian', True), ('fromiter', <built-in function fromiter>), ('array_equal', <function array_equal at 0x0000017620310708>), ('array_equiv', <function array_equiv at 0x0000017620310948>), ('indices', <function indices at 0x0000017620314AF8>), ('fromfunction', <function fromfunction at 0x0000017620314C18>), ('isclose', <function isclose at 0x00000176203104C8>), ('isscalar', <function isscalar at 0x0000017620314D38>), ('binary_repr', <function binary_repr at 0x0000017620314DC8>), ('base_repr', <function base_repr at 0x0000017620314E58>), ('ones', <function ones at 0x000001762030D3A8>), ('identity', <function identity at 0x0000017620314F78>), ('allclose', <function allclose at 0x0000017620310288>), ('compare_chararrays', <built-in function compare_chararrays>), ('putmask', <function putmask at 0x00000176202AB678>), ('flatnonzero', <function flatnonzero at 0x000001762030E798>), ('Inf', inf), ('inf', inf), ('infty', inf), ('Infinity', inf), ('nan', nan), ('NaN', nan), ('False_', False), ('True_', True), ('bitwise_not', <ufunc 'invert'>), ('CLIP', 0), ('RAISE', 2), ('WRAP', 1), ('MAXDIMS', 32), ('BUFSIZE', 8192), ('ALLOW_THREADS', 1), ('ComplexWarning', <class 'numpy.ComplexWarning'>), ('full', <function full at 0x000001762030DCA8>), ('full_like', <function full_like at 0x000001762030E048>), ('matmul', <ufunc 'matmul'>), ('shares_memory', <function shares_memory at 0x00000176202ABB88>), ('may_share_memory', <function may_share_memory at 0x00000176202ABD38>), ('MAY_SHARE_BOUNDS', 0), ('MAY_SHARE_EXACT', -1), ('TooHardError', <class 'numpy.TooHardError'>), ('AxisError', <class 'numpy.AxisError'>), ('alen', <function alen at 0x00000176202FBD38>), ('all', <function all at 0x00000176202FB1F8>), ('alltrue', <function alltrue at 0x0000017620307828>), ('amax', <function amax at 0x00000176202FB8B8>), ('amin', <function amin at 0x00000176202FBAF8>), ('any', <function any at 0x00000176202F6F78>), ('argmax', <function argmax at 0x00000176202F81F8>), ('argmin', <function argmin at 0x00000176202F8438>), ('argpartition', <function argpartition at 0x00000176202F1AF8>), ('argsort', <function argsort at 0x00000176202F1F78>), ('around', <function around at 0x00000176203018B8>), ('choose', <function choose at 0x00000176202F0D38>), ('clip', <function clip at 0x00000176202F6AF8>), ('compress', <function compress at 0x00000176202F68B8>), ('cumprod', <function cumprod at 0x00000176203011F8>), ('cumproduct', <function cumproduct at 0x00000176203074C8>), ('cumsum', <function cumsum at 0x00000176202FB438>), ('diagonal', <function diagonal at 0x00000176202F8D38>), ('mean', <function mean at 0x0000017620301AF8>), ('ndim', <function ndim at 0x0000017620301438>), ('nonzero', <function nonzero at 0x00000176202F6438>), ('partition', <function partition at 0x00000176202F18B8>), ('prod', <function prod at 0x00000176202FBF78>), ('product', <function product at 0x0000017620307318>), ('ptp', <function ptp at 0x00000176202FB678>), ('put', <function put at 0x00000176202F11F8>), ('ravel', <function ravel at 0x00000176202F61F8>), ('repeat', <function repeat at 0x00000176202F0F78>), ('reshape', <function reshape at 0x00000176202F0AF8>), ('resize', <function resize at 0x00000176202F88B8>), ('round_', <function round_ at 0x0000017620307168>), ('searchsorted', <function searchsorted at 0x00000176202F8678>), ('shape', <function shape at 0x00000176202F6678>), ('size', <function size at 0x0000017620301678>), ('sometrue', <function sometrue at 0x0000017620307678>), ('sort', <function sort at 0x00000176202F1D38>), ('squeeze', <function squeeze at 0x00000176202F8AF8>), ('std', <function std at 0x0000017620301D38>), ('sum', <function sum at 0x00000176202F6D38>), ('swapaxes', <function swapaxes at 0x00000176202F1438>), ('take', <function take at 0x00000176202F08B8>), ('trace', <function trace at 0x00000176202F8F78>), ('transpose', <function transpose at 0x00000176202F1678>), ('var', <function var at 0x0000017620301F78>), ('_UFUNC_API', <capsule object NULL at 0x000001762023AA50>), ('ERR_CALL', 3), ('ERR_DEFAULT', 521), ('ERR_IGNORE', 0), ('ERR_LOG', 5), ('ERR_PRINT', 4), ('ERR_RAISE', 2), ('ERR_WARN', 1), ('FLOATING_POINT_SUPPORT', 1), ('FPE_DIVIDEBYZERO', 1), ('FPE_INVALID', 8), ('FPE_OVERFLOW', 2), ('FPE_UNDERFLOW', 4), ('NAN', nan), ('NINF', -inf), ('NZERO', -0.0), ('PINF', inf), ('PZERO', 0.0), ('SHIFT_DIVIDEBYZERO', 0), ('SHIFT_INVALID', 9), ('SHIFT_OVERFLOW', 3), ('SHIFT_UNDERFLOW', 6), ('UFUNC_BUFSIZE_DEFAULT', 8192), ('UFUNC_PYVALS_NAME', 'UFUNC_PYVALS'), ('_add_newdoc_ufunc', <built-in function _add_newdoc_ufunc>), ('absolute', <ufunc 'absolute'>), ('add', <ufunc 'add'>), ('arccos', <ufunc 'arccos'>), ('arccosh', <ufunc 'arccosh'>), ('arcsin', <ufunc 'arcsin'>), ('arcsinh', <ufunc 'arcsinh'>), ('arctan', <ufunc 'arctan'>), ('arctan2', <ufunc 'arctan2'>), ('arctanh', <ufunc 'arctanh'>), ('bitwise_and', <ufunc 'bitwise_and'>), ('bitwise_or', <ufunc 'bitwise_or'>), ('bitwise_xor', <ufunc 'bitwise_xor'>), ('cbrt', <ufunc 'cbrt'>), ('ceil', <ufunc 'ceil'>), ('conj', <ufunc 'conjugate'>), ('conjugate', <ufunc 'conjugate'>), ('copysign', <ufunc 'copysign'>), ('cos', <ufunc 'cos'>), ('cosh', <ufunc 'cosh'>), ('deg2rad', <ufunc 'deg2rad'>), ('degrees', <ufunc 'degrees'>), ('divide', <ufunc 'true_divide'>), ('divmod', <ufunc 'divmod'>), ('e', 2.718281828459045), ('equal', <ufunc 'equal'>), ('euler_gamma', 0.5772156649015329), ('exp', <ufunc 'exp'>), ('exp2', <ufunc 'exp2'>), ('expm1', <ufunc 'expm1'>), ('fabs', <ufunc 'fabs'>), ('floor', <ufunc 'floor'>), ('floor_divide', <ufunc 'floor_divide'>), ('float_power', <ufunc 'float_power'>), ('fmax', <ufunc 'fmax'>), ('fmin', <ufunc 'fmin'>), ('fmod', <ufunc 'fmod'>), ('frexp', <ufunc 'frexp'>), ('frompyfunc', <built-in function frompyfunc>), ('gcd', <ufunc 'gcd'>), ('geterrobj', <built-in function geterrobj>), ('greater', <ufunc 'greater'>), ('greater_equal', <ufunc 'greater_equal'>), ('heaviside', <ufunc 'heaviside'>), ('hypot', <ufunc 'hypot'>), ('invert', <ufunc 'invert'>), ('isfinite', <ufunc 'isfinite'>), ('isinf', <ufunc 'isinf'>), ('isnan', <ufunc 'isnan'>), ('isnat', <ufunc 'isnat'>), ('lcm', <ufunc 'lcm'>), ('ldexp', <ufunc 'ldexp'>), ('left_shift', <ufunc 'left_shift'>), ('less', <ufunc 'less'>), ('less_equal', <ufunc 'less_equal'>), ('log', <ufunc 'log'>), ('log10', <ufunc 'log10'>), ('log1p', <ufunc 'log1p'>), ('log2', <ufunc 'log2'>), ('logaddexp', <ufunc 'logaddexp'>), ('logaddexp2', <ufunc 'logaddexp2'>), ('logical_and', <ufunc 'logical_and'>), ('logical_not', <ufunc 'logical_not'>), ('logical_or', <ufunc 'logical_or'>), ('logical_xor', <ufunc 'logical_xor'>), ('maximum', <ufunc 'maximum'>), ('minimum', <ufunc 'minimum'>), ('mod', <ufunc 'remainder'>), ('modf', <ufunc 'modf'>), ('multiply', <ufunc 'multiply'>), ('negative', <ufunc 'negative'>), ('nextafter', <ufunc 'nextafter'>), ('not_equal', <ufunc 'not_equal'>), ('pi', 3.141592653589793), ('positive', <ufunc 'positive'>), ('power', <ufunc 'power'>), ('rad2deg', <ufunc 'rad2deg'>), ('radians', <ufunc 'radians'>), ('reciprocal', <ufunc 'reciprocal'>), ('remainder', <ufunc 'remainder'>), ('right_shift', <ufunc 'right_shift'>), ('rint', <ufunc 'rint'>), ('seterrobj', <built-in function seterrobj>), ('sign', <ufunc 'sign'>), ('signbit', <ufunc 'signbit'>), ('sin', <ufunc 'sin'>), ('sinh', <ufunc 'sinh'>), ('spacing', <ufunc 'spacing'>), ('sqrt', <ufunc 'sqrt'>), ('square', <ufunc 'square'>), ('subtract', <ufunc 'subtract'>), ('tan', <ufunc 'tan'>), ('tanh', <ufunc 'tanh'>), ('true_divide', <ufunc 'true_divide'>), ('trunc', <ufunc 'trunc'>), ('sctypeDict', {'?': <class 'numpy.bool_'>, 0: <class 'numpy.bool_'>, 'byte': <class 'numpy.int8'>, 'b': <class 'numpy.int8'>, 1: <class 'numpy.int8'>, 'ubyte': <class 'numpy.uint8'>, 'B': <class 'numpy.uint8'>, 2: <class 'numpy.uint8'>, 'short': <class 'numpy.int16'>, 'h': <class 'numpy.int16'>, 3: <class 'numpy.int16'>, 'ushort': <class 'numpy.uint16'>, 'H': <class 'numpy.uint16'>, 4: <class 'numpy.uint16'>, 'i': <class 'numpy.intc'>, 5: <class 'numpy.intc'>, 'uint': <class 'numpy.uint32'>, 'I': <class 'numpy.uintc'>, 6: <class 'numpy.uintc'>, 'intp': <class 'numpy.int64'>, 'p': <class 'numpy.int64'>, 9: <class 'numpy.int64'>, 'uintp': <class 'numpy.uint64'>, 'P': <class 'numpy.uint64'>, 10: <class 'numpy.uint64'>, 'long': <class 'numpy.int32'>, 'l': <class 'numpy.int32'>, 7: <class 'numpy.int32'>, 'L': <class 'numpy.uint32'>, 8: <class 'numpy.uint32'>, 'longlong': <class 'numpy.int64'>, 'q': <class 'numpy.int64'>, 'ulonglong': <class 'numpy.uint64'>, 'Q': <class 'numpy.uint64'>, 'half': <class 'numpy.float16'>, 'e': <class 'numpy.float16'>, 23: <class 'numpy.float16'>, 'f': <class 'numpy.float32'>, 11: <class 'numpy.float32'>, 'double': <class 'numpy.float64'>, 'd': <class 'numpy.float64'>, 12: <class 'numpy.float64'>, 'longdouble': <class 'numpy.longdouble'>, 'g': <class 'numpy.longdouble'>, 13: <class 'numpy.longdouble'>, 'cfloat': <class 'numpy.complex128'>, 'F': <class 'numpy.complex64'>, 14: <class 'numpy.complex64'>, 'cdouble': <class 'numpy.complex128'>, 'D': <class 'numpy.complex128'>, 15: <class 'numpy.complex128'>, 'clongdouble': <class 'numpy.clongdouble'>, 'G': <class 'numpy.clongdouble'>, 16: <class 'numpy.clongdouble'>, 'O': <class 'numpy.object_'>, 17: <class 'numpy.object_'>, 'S': <class 'numpy.bytes_'>, 18: <class 'numpy.bytes_'>, 'unicode': <class 'numpy.str_'>, 'U': <class 'numpy.str_'>, 19: <class 'numpy.str_'>, 'void': <class 'numpy.void'>, 'V': <class 'numpy.void'>, 20: <class 'numpy.void'>, 'M': <class 'numpy.datetime64'>, 21: <class 'numpy.datetime64'>, 'm': <class 'numpy.timedelta64'>, 22: <class 'numpy.timedelta64'>, 'bool8': <class 'numpy.bool_'>, 'Bool': <class 'numpy.bool_'>, 'b1': <class 'numpy.bool_'>, 'int64': <class 'numpy.int64'>, 'Int64': <class 'numpy.int64'>, 'i8': <class 'numpy.int64'>, 'uint64': <class 'numpy.uint64'>, 'Uint64': <class 'numpy.uint64'>, 'u8': <class 'numpy.uint64'>, 'float16': <class 'numpy.float16'>, 'Float16': <class 'numpy.float16'>, 'f2': <class 'numpy.float16'>, 'float32': <class 'numpy.float32'>, 'Float32': <class 'numpy.float32'>, 'f4': <class 'numpy.float32'>, 'float64': <class 'numpy.float64'>, 'Float64': <class 'numpy.float64'>, 'f8': <class 'numpy.float64'>, 'complex64': <class 'numpy.complex64'>, 'Complex32': <class 'numpy.complex64'>, 'c8': <class 'numpy.complex64'>, 'complex128': <class 'numpy.complex128'>, 'Complex64': <class 'numpy.complex128'>, 'c16': <class 'numpy.complex128'>, 'object0': <class 'numpy.object_'>, 'Object0': <class 'numpy.object_'>, 'bytes0': <class 'numpy.bytes_'>, 'Bytes0': <class 'numpy.bytes_'>, 'str0': <class 'numpy.str_'>, 'Str0': <class 'numpy.str_'>, 'void0': <class 'numpy.void'>, 'Void0': <class 'numpy.void'>, 'datetime64': <class 'numpy.datetime64'>, 'Datetime64': <class 'numpy.datetime64'>, 'M8': <class 'numpy.datetime64'>, 'timedelta64': <class 'numpy.timedelta64'>, 'Timedelta64': <class 'numpy.timedelta64'>, 'm8': <class 'numpy.timedelta64'>, 'int32': <class 'numpy.int32'>, 'Int32': <class 'numpy.int32'>, 'i4': <class 'numpy.int32'>, 'uint32': <class 'numpy.uint32'>, 'UInt32': <class 'numpy.uint32'>, 'u4': <class 'numpy.uint32'>, 'UInt64': <class 'numpy.uint64'>, 'int16': <class 'numpy.int16'>, 'Int16': <class 'numpy.int16'>, 'i2': <class 'numpy.int16'>, 'uint16': <class 'numpy.uint16'>, 'UInt16': <class 'numpy.uint16'>, 'u2': <class 'numpy.uint16'>, 'int8': <class 'numpy.int8'>, 'Int8': <class 'numpy.int8'>, 'i1': <class 'numpy.int8'>, 'uint8': <class 'numpy.uint8'>, 'UInt8': <class 'numpy.uint8'>, 'u1': <class 'numpy.uint8'>, 'complex_': <class 'numpy.complex128'>, 'int0': <class 'numpy.int64'>, 'uint0': <class 'numpy.uint64'>, 'single': <class 'numpy.float32'>, 'csingle': <class 'numpy.complex64'>, 'singlecomplex': <class 'numpy.complex64'>, 'float_': <class 'numpy.float64'>, 'intc': <class 'numpy.intc'>, 'uintc': <class 'numpy.uintc'>, 'int_': <class 'numpy.int32'>, 'longfloat': <class 'numpy.longdouble'>, 'clongfloat': <class 'numpy.clongdouble'>, 'longcomplex': <class 'numpy.clongdouble'>, 'bool_': <class 'numpy.bool_'>, 'bytes_': <class 'numpy.bytes_'>, 'string_': <class 'numpy.bytes_'>, 'unicode_': <class 'numpy.str_'>, 'object_': <class 'numpy.object_'>, 'str_': <class 'numpy.str_'>, 'int': <class 'numpy.int32'>, 'float': <class 'numpy.float64'>, 'complex': <class 'numpy.complex128'>, 'bool': <class 'numpy.bool_'>, 'object': <class 'numpy.object_'>, 'str': <class 'numpy.str_'>, 'bytes': <class 'numpy.bytes_'>, 'a': <class 'numpy.bytes_'>}), ('sctypeNA', {'Bool': <class 'numpy.bool_'>, <class 'numpy.bool_'>: 'Bool', '?': 'Bool', 'b1': 'Bool', 'Int64': <class 'numpy.int64'>, <class 'numpy.int64'>: 'Int64', 'p': 'Int64', 'i8': <class 'numpy.int64'>, 'Uint64': <class 'numpy.uint64'>, <class 'numpy.uint64'>: 'UInt64', 'P': 'Uint64', 'u8': <class 'numpy.uint64'>, 'Float16': <class 'numpy.float16'>, <class 'numpy.float16'>: 'Float16', 'e': 'Float16', 'f2': 'Float16', 'Float32': <class 'numpy.float32'>, <class 'numpy.float32'>: 'Float32', 'f': 'Float32', 'f4': 'Float32', 'Float64': <class 'numpy.float64'>, <class 'numpy.float64'>: 'Float64', 'd': 'Float64', 'f8': 'Float64', 'Complex32': <class 'numpy.complex64'>, <class 'numpy.complex64'>: 'Complex32', 'F': 'Complex32', 'c8': 'Complex32', 'Complex64': <class 'numpy.complex128'>, <class 'numpy.complex128'>: 'Complex64', 'D': 'Complex64', 'c16': 'Complex64', 'Object0': <class 'numpy.object_'>, <class 'numpy.object_'>: 'Object0', 'O': 'Object0', 'Bytes0': <class 'numpy.bytes_'>, <class 'numpy.bytes_'>: 'Bytes0', 'S': 'Bytes0', 'Str0': <class 'numpy.str_'>, <class 'numpy.str_'>: 'Str0', 'U': 'Str0', 'Void0': <class 'numpy.void'>, <class 'numpy.void'>: 'Void0', 'V': 'Void0', 'Datetime64': <class 'numpy.datetime64'>, <class 'numpy.datetime64'>: 'Datetime64', 'M': 'Datetime64', 'M8': 'Datetime64', 'Timedelta64': <class 'numpy.timedelta64'>, <class 'numpy.timedelta64'>: 'Timedelta64', 'm': 'Timedelta64', 'm8': 'Timedelta64', 'Int32': <class 'numpy.int32'>, 'i4': <class 'numpy.int32'>, <class 'numpy.int32'>: 'Int32', 'l': 'Int32', 'UInt32': <class 'numpy.uint32'>, 'u4': <class 'numpy.uint32'>, <class 'numpy.uint32'>: 'UInt32', 'L': 'UInt32', 'q': 'Int64', 'UInt64': <class 'numpy.uint64'>, 'Q': 'UInt64', <class 'numpy.intc'>: 'Int32', 'i': 'Int32', <class 'numpy.uintc'>: 'UInt32', 'I': 'UInt32', 'Int16': <class 'numpy.int16'>, 'i2': <class 'numpy.int16'>, <class 'numpy.int16'>: 'Int16', 'h': 'Int16', 'UInt16': <class 'numpy.uint16'>, 'u2': <class 'numpy.uint16'>, <class 'numpy.uint16'>: 'UInt16', 'H': 'UInt16', 'Int8': <class 'numpy.int8'>, 'i1': <class 'numpy.int8'>, <class 'numpy.int8'>: 'Int8', 'b': 'Int8', 'UInt8': <class 'numpy.uint8'>, 'u1': <class 'numpy.uint8'>, <class 'numpy.uint8'>: 'UInt8', 'B': 'UInt8'}), ('typeDict', {'?': <class 'numpy.bool_'>, 0: <class 'numpy.bool_'>, 'byte': <class 'numpy.int8'>, 'b': <class 'numpy.int8'>, 1: <class 'numpy.int8'>, 'ubyte': <class 'numpy.uint8'>, 'B': <class 'numpy.uint8'>, 2: <class 'numpy.uint8'>, 'short': <class 'numpy.int16'>, 'h': <class 'numpy.int16'>, 3: <class 'numpy.int16'>, 'ushort': <class 'numpy.uint16'>, 'H': <class 'numpy.uint16'>, 4: <class 'numpy.uint16'>, 'i': <class 'numpy.intc'>, 5: <class 'numpy.intc'>, 'uint': <class 'numpy.uint32'>, 'I': <class 'numpy.uintc'>, 6: <class 'numpy.uintc'>, 'intp': <class 'numpy.int64'>, 'p': <class 'numpy.int64'>, 9: <class 'numpy.int64'>, 'uintp': <class 'numpy.uint64'>, 'P': <class 'numpy.uint64'>, 10: <class 'numpy.uint64'>, 'long': <class 'numpy.int32'>, 'l': <class 'numpy.int32'>, 7: <class 'numpy.int32'>, 'L': <class 'numpy.uint32'>, 8: <class 'numpy.uint32'>, 'longlong': <class 'numpy.int64'>, 'q': <class 'numpy.int64'>, 'ulonglong': <class 'numpy.uint64'>, 'Q': <class 'numpy.uint64'>, 'half': <class 'numpy.float16'>, 'e': <class 'numpy.float16'>, 23: <class 'numpy.float16'>, 'f': <class 'numpy.float32'>, 11: <class 'numpy.float32'>, 'double': <class 'numpy.float64'>, 'd': <class 'numpy.float64'>, 12: <class 'numpy.float64'>, 'longdouble': <class 'numpy.longdouble'>, 'g': <class 'numpy.longdouble'>, 13: <class 'numpy.longdouble'>, 'cfloat': <class 'numpy.complex128'>, 'F': <class 'numpy.complex64'>, 14: <class 'numpy.complex64'>, 'cdouble': <class 'numpy.complex128'>, 'D': <class 'numpy.complex128'>, 15: <class 'numpy.complex128'>, 'clongdouble': <class 'numpy.clongdouble'>, 'G': <class 'numpy.clongdouble'>, 16: <class 'numpy.clongdouble'>, 'O': <class 'numpy.object_'>, 17: <class 'numpy.object_'>, 'S': <class 'numpy.bytes_'>, 18: <class 'numpy.bytes_'>, 'unicode': <class 'numpy.str_'>, 'U': <class 'numpy.str_'>, 19: <class 'numpy.str_'>, 'void': <class 'numpy.void'>, 'V': <class 'numpy.void'>, 20: <class 'numpy.void'>, 'M': <class 'numpy.datetime64'>, 21: <class 'numpy.datetime64'>, 'm': <class 'numpy.timedelta64'>, 22: <class 'numpy.timedelta64'>, 'bool8': <class 'numpy.bool_'>, 'Bool': <class 'numpy.bool_'>, 'b1': <class 'numpy.bool_'>, 'int64': <class 'numpy.int64'>, 'Int64': <class 'numpy.int64'>, 'i8': <class 'numpy.int64'>, 'uint64': <class 'numpy.uint64'>, 'Uint64': <class 'numpy.uint64'>, 'u8': <class 'numpy.uint64'>, 'float16': <class 'numpy.float16'>, 'Float16': <class 'numpy.float16'>, 'f2': <class 'numpy.float16'>, 'float32': <class 'numpy.float32'>, 'Float32': <class 'numpy.float32'>, 'f4': <class 'numpy.float32'>, 'float64': <class 'numpy.float64'>, 'Float64': <class 'numpy.float64'>, 'f8': <class 'numpy.float64'>, 'complex64': <class 'numpy.complex64'>, 'Complex32': <class 'numpy.complex64'>, 'c8': <class 'numpy.complex64'>, 'complex128': <class 'numpy.complex128'>, 'Complex64': <class 'numpy.complex128'>, 'c16': <class 'numpy.complex128'>, 'object0': <class 'numpy.object_'>, 'Object0': <class 'numpy.object_'>, 'bytes0': <class 'numpy.bytes_'>, 'Bytes0': <class 'numpy.bytes_'>, 'str0': <class 'numpy.str_'>, 'Str0': <class 'numpy.str_'>, 'void0': <class 'numpy.void'>, 'Void0': <class 'numpy.void'>, 'datetime64': <class 'numpy.datetime64'>, 'Datetime64': <class 'numpy.datetime64'>, 'M8': <class 'numpy.datetime64'>, 'timedelta64': <class 'numpy.timedelta64'>, 'Timedelta64': <class 'numpy.timedelta64'>, 'm8': <class 'numpy.timedelta64'>, 'int32': <class 'numpy.int32'>, 'Int32': <class 'numpy.int32'>, 'i4': <class 'numpy.int32'>, 'uint32': <class 'numpy.uint32'>, 'UInt32': <class 'numpy.uint32'>, 'u4': <class 'numpy.uint32'>, 'UInt64': <class 'numpy.uint64'>, 'int16': <class 'numpy.int16'>, 'Int16': <class 'numpy.int16'>, 'i2': <class 'numpy.int16'>, 'uint16': <class 'numpy.uint16'>, 'UInt16': <class 'numpy.uint16'>, 'u2': <class 'numpy.uint16'>, 'int8': <class 'numpy.int8'>, 'Int8': <class 'numpy.int8'>, 'i1': <class 'numpy.int8'>, 'uint8': <class 'numpy.uint8'>, 'UInt8': <class 'numpy.uint8'>, 'u1': <class 'numpy.uint8'>, 'complex_': <class 'numpy.complex128'>, 'int0': <class 'numpy.int64'>, 'uint0': <class 'numpy.uint64'>, 'single': <class 'numpy.float32'>, 'csingle': <class 'numpy.complex64'>, 'singlecomplex': <class 'numpy.complex64'>, 'float_': <class 'numpy.float64'>, 'intc': <class 'numpy.intc'>, 'uintc': <class 'numpy.uintc'>, 'int_': <class 'numpy.int32'>, 'longfloat': <class 'numpy.longdouble'>, 'clongfloat': <class 'numpy.clongdouble'>, 'longcomplex': <class 'numpy.clongdouble'>, 'bool_': <class 'numpy.bool_'>, 'bytes_': <class 'numpy.bytes_'>, 'string_': <class 'numpy.bytes_'>, 'unicode_': <class 'numpy.str_'>, 'object_': <class 'numpy.object_'>, 'str_': <class 'numpy.str_'>, 'int': <class 'numpy.int32'>, 'float': <class 'numpy.float64'>, 'complex': <class 'numpy.complex128'>, 'bool': <class 'numpy.bool_'>, 'object': <class 'numpy.object_'>, 'str': <class 'numpy.str_'>, 'bytes': <class 'numpy.bytes_'>, 'a': <class 'numpy.bytes_'>}), ('typeNA', {'Bool': <class 'numpy.bool_'>, <class 'numpy.bool_'>: 'Bool', '?': 'Bool', 'b1': 'Bool', 'Int64': <class 'numpy.int64'>, <class 'numpy.int64'>: 'Int64', 'p': 'Int64', 'i8': <class 'numpy.int64'>, 'Uint64': <class 'numpy.uint64'>, <class 'numpy.uint64'>: 'UInt64', 'P': 'Uint64', 'u8': <class 'numpy.uint64'>, 'Float16': <class 'numpy.float16'>, <class 'numpy.float16'>: 'Float16', 'e': 'Float16', 'f2': 'Float16', 'Float32': <class 'numpy.float32'>, <class 'numpy.float32'>: 'Float32', 'f': 'Float32', 'f4': 'Float32', 'Float64': <class 'numpy.float64'>, <class 'numpy.float64'>: 'Float64', 'd': 'Float64', 'f8': 'Float64', 'Complex32': <class 'numpy.complex64'>, <class 'numpy.complex64'>: 'Complex32', 'F': 'Complex32', 'c8': 'Complex32', 'Complex64': <class 'numpy.complex128'>, <class 'numpy.complex128'>: 'Complex64', 'D': 'Complex64', 'c16': 'Complex64', 'Object0': <class 'numpy.object_'>, <class 'numpy.object_'>: 'Object0', 'O': 'Object0', 'Bytes0': <class 'numpy.bytes_'>, <class 'numpy.bytes_'>: 'Bytes0', 'S': 'Bytes0', 'Str0': <class 'numpy.str_'>, <class 'numpy.str_'>: 'Str0', 'U': 'Str0', 'Void0': <class 'numpy.void'>, <class 'numpy.void'>: 'Void0', 'V': 'Void0', 'Datetime64': <class 'numpy.datetime64'>, <class 'numpy.datetime64'>: 'Datetime64', 'M': 'Datetime64', 'M8': 'Datetime64', 'Timedelta64': <class 'numpy.timedelta64'>, <class 'numpy.timedelta64'>: 'Timedelta64', 'm': 'Timedelta64', 'm8': 'Timedelta64', 'Int32': <class 'numpy.int32'>, 'i4': <class 'numpy.int32'>, <class 'numpy.int32'>: 'Int32', 'l': 'Int32', 'UInt32': <class 'numpy.uint32'>, 'u4': <class 'numpy.uint32'>, <class 'numpy.uint32'>: 'UInt32', 'L': 'UInt32', 'q': 'Int64', 'UInt64': <class 'numpy.uint64'>, 'Q': 'UInt64', <class 'numpy.intc'>: 'Int32', 'i': 'Int32', <class 'numpy.uintc'>: 'UInt32', 'I': 'UInt32', 'Int16': <class 'numpy.int16'>, 'i2': <class 'numpy.int16'>, <class 'numpy.int16'>: 'Int16', 'h': 'Int16', 'UInt16': <class 'numpy.uint16'>, 'u2': <class 'numpy.uint16'>, <class 'numpy.uint16'>: 'UInt16', 'H': 'UInt16', 'Int8': <class 'numpy.int8'>, 'i1': <class 'numpy.int8'>, <class 'numpy.int8'>: 'Int8', 'b': 'Int8', 'UInt8': <class 'numpy.uint8'>, 'u1': <class 'numpy.uint8'>, <class 'numpy.uint8'>: 'UInt8', 'B': 'UInt8'}), ('sctypes', {'int': [<class 'numpy.int8'>, <class 'numpy.int16'>, <class 'numpy.int32'>, <class 'numpy.int64'>], 'uint': [<class 'numpy.uint8'>, <class 'numpy.uint16'>, <class 'numpy.uint32'>, <class 'numpy.uint64'>], 'float': [<class 'numpy.float16'>, <class 'numpy.float32'>, <class 'numpy.float64'>], 'complex': [<class 'numpy.complex64'>, <class 'numpy.complex128'>], 'others': [<class 'bool'>, <class 'object'>, <class 'bytes'>, <class 'str'>, <class 'numpy.void'>]}), ('ScalarType', (<class 'int'>, <class 'float'>, <class 'complex'>, <class 'int'>, <class 'bool'>, <class 'bytes'>, <class 'str'>, <class 'memoryview'>, <class 'numpy.uint32'>, <class 'numpy.str_'>, <class 'numpy.datetime64'>, <class 'numpy.float32'>, <class 'numpy.bool_'>, <class 'numpy.float64'>, <class 'numpy.clongdouble'>, <class 'numpy.float16'>, <class 'numpy.bytes_'>, <class 'numpy.uint16'>, <class 'numpy.complex64'>, <class 'numpy.complex128'>, <class 'numpy.timedelta64'>, <class 'numpy.int32'>, <class 'numpy.uint8'>, <class 'numpy.longdouble'>, <class 'numpy.void'>, <class 'numpy.int64'>, <class 'numpy.uintc'>, <class 'numpy.object_'>, <class 'numpy.int8'>, <class 'numpy.intc'>, <class 'numpy.uint64'>, <class 'numpy.int16'>)), ('obj2sctype', <function obj2sctype at 0x00000176202B1678>), ('cast', {<class 'numpy.uint32'>: <function <lambda> at 0x00000176202BEDC8>, <class 'numpy.str_'>: <function <lambda> at 0x00000176202BEEE8>, <class 'numpy.datetime64'>: <function <lambda> at 0x00000176202BEF78>, <class 'numpy.float32'>: <function <lambda> at 0x00000176202C2048>, <class 'numpy.bool_'>: <function <lambda> at 0x00000176202C20D8>, <class 'numpy.float64'>: <function <lambda> at 0x00000176202C2168>, <class 'numpy.clongdouble'>: <function <lambda> at 0x00000176202C21F8>, <class 'numpy.float16'>: <function <lambda> at 0x00000176202C2288>, <class 'numpy.bytes_'>: <function <lambda> at 0x00000176202C2318>, <class 'numpy.uint16'>: <function <lambda> at 0x00000176202C23A8>, <class 'numpy.complex64'>: <function <lambda> at 0x00000176202C2438>, <class 'numpy.complex128'>: <function <lambda> at 0x00000176202C24C8>, <class 'numpy.timedelta64'>: <function <lambda> at 0x00000176202C2558>, <class 'numpy.int32'>: <function <lambda> at 0x00000176202C25E8>, <class 'numpy.uint8'>: <function <lambda> at 0x00000176202C2678>, <class 'numpy.longdouble'>: <function <lambda> at 0x00000176202C2708>, <class 'numpy.void'>: <function <lambda> at 0x00000176202C2798>, <class 'numpy.int64'>: <function <lambda> at 0x00000176202C2828>, <class 'numpy.uintc'>: <function <lambda> at 0x00000176202C28B8>, <class 'numpy.object_'>: <function <lambda> at 0x00000176202C2948>, <class 'numpy.int8'>: <function <lambda> at 0x00000176202C29D8>, <class 'numpy.intc'>: <function <lambda> at 0x00000176202C2A68>, <class 'numpy.uint64'>: <function <lambda> at 0x00000176202C2AF8>, <class 'numpy.int16'>: <function <lambda> at 0x00000176202C2B88>}), ('nbytes', {<class 'numpy.bool_'>: 1, <class 'numpy.int8'>: 1, <class 'numpy.uint8'>: 1, <class 'numpy.int16'>: 2, <class 'numpy.uint16'>: 2, <class 'numpy.intc'>: 4, <class 'numpy.uintc'>: 4, <class 'numpy.int64'>: 8, <class 'numpy.uint64'>: 8, <class 'numpy.int32'>: 4, <class 'numpy.uint32'>: 4, <class 'numpy.float16'>: 2, <class 'numpy.float32'>: 4, <class 'numpy.float64'>: 8, <class 'numpy.longdouble'>: 8, <class 'numpy.complex64'>: 8, <class 'numpy.complex128'>: 16, <class 'numpy.clongdouble'>: 16, <class 'numpy.object_'>: 8, <class 'numpy.bytes_'>: 0, <class 'numpy.str_'>: 0, <class 'numpy.void'>: 0, <class 'numpy.datetime64'>: 8, <class 'numpy.timedelta64'>: 8}), ('sctype2char', <function sctype2char at 0x00000176202BEE58>), ('maximum_sctype', <function maximum_sctype at 0x00000176202B1EE8>), ('issctype', <function issctype at 0x00000176202B1E58>), ('typecodes', {'Character': 'c', 'Integer': 'bhilqp', 'UnsignedInteger': 'BHILQP', 'Float': 'efdg', 'Complex': 'FDG', 'AllInteger': 'bBhHiIlLqQpP', 'AllFloat': 'efdgFDG', 'Datetime': 'Mm', 'All': '?bhilqpBHILQPefdgFDGSUVOMm'}), ('find_common_type', <function find_common_type at 0x00000176202C2E58>), ('issubdtype', <function issubdtype at 0x00000176202BECA8>), ('datetime_data', <built-in function datetime_data>), ('datetime_as_string', <function datetime_as_string at 0x00000176202AF438>), ('busday_offset', <function busday_offset at 0x00000176202AF0D8>), ('busday_count', <function busday_count at 0x00000176202AF288>), ('is_busday', <function is_busday at 0x00000176202ABEE8>), ('busdaycalendar', <class 'numpy.busdaycalendar'>), ('byte', <class 'numpy.int8'>), ('ubyte', <class 'numpy.uint8'>), ('short', <class 'numpy.int16'>), ('ushort', <class 'numpy.uint16'>), ('uint', <class 'numpy.uint32'>), ('intp', <class 'numpy.int64'>), ('uintp', <class 'numpy.uint64'>), ('long', <class 'int'>), ('longlong', <class 'numpy.int64'>), ('ulonglong', <class 'numpy.uint64'>), ('half', <class 'numpy.float16'>), ('double', <class 'numpy.float64'>), ('longdouble', <class 'numpy.longdouble'>), ('cfloat', <class 'numpy.complex128'>), ('cdouble', <class 'numpy.complex128'>), ('clongdouble', <class 'numpy.clongdouble'>), ('unicode', <class 'str'>), ('void', <class 'numpy.void'>), ('generic', <class 'numpy.generic'>), ('number', <class 'numpy.number'>), ('integer', <class 'numpy.integer'>), ('inexact', <class 'numpy.inexact'>), ('signedinteger', <class 'numpy.signedinteger'>), ('unsignedinteger', <class 'numpy.unsignedinteger'>), ('floating', <class 'numpy.floating'>), ('complexfloating', <class 'numpy.complexfloating'>), ('flexible', <class 'numpy.flexible'>), ('character', <class 'numpy.character'>), ('bool8', <class 'numpy.bool_'>), ('int64', <class 'numpy.int64'>), ('uint64', <class 'numpy.uint64'>), ('float16', <class 'numpy.float16'>), ('float32', <class 'numpy.float32'>), ('float64', <class 'numpy.float64'>), ('complex64', <class 'numpy.complex64'>), ('complex128', <class 'numpy.complex128'>), ('object0', <class 'numpy.object_'>), ('bytes0', <class 'numpy.bytes_'>), ('str0', <class 'numpy.str_'>), ('void0', <class 'numpy.void'>), ('datetime64', <class 'numpy.datetime64'>), ('timedelta64', <class 'numpy.timedelta64'>), ('int32', <class 'numpy.int32'>), ('uint32', <class 'numpy.uint32'>), ('int16', <class 'numpy.int16'>), ('uint16', <class 'numpy.uint16'>), ('int8', <class 'numpy.int8'>), ('uint8', <class 'numpy.uint8'>), ('complex_', <class 'numpy.complex128'>), ('int0', <class 'numpy.int64'>), ('uint0', <class 'numpy.uint64'>), ('single', <class 'numpy.float32'>), ('csingle', <class 'numpy.complex64'>), ('singlecomplex', <class 'numpy.complex64'>), ('float_', <class 'numpy.float64'>), ('intc', <class 'numpy.intc'>), ('uintc', <class 'numpy.uintc'>), ('int_', <class 'numpy.int32'>), ('longfloat', <class 'numpy.longdouble'>), ('clongfloat', <class 'numpy.clongdouble'>), ('longcomplex', <class 'numpy.clongdouble'>), ('bool_', <class 'numpy.bool_'>), ('bytes_', <class 'numpy.bytes_'>), ('string_', <class 'numpy.bytes_'>), ('unicode_', <class 'numpy.str_'>), ('object_', <class 'numpy.object_'>), ('str_', <class 'numpy.str_'>), ('array2string', <function array2string at 0x0000017620329318>), ('array_str', <function array_str at 0x000001762032CA68>), ('array_repr', <function array_repr at 0x000001762032C678>), ('set_string_function', <function set_string_function at 0x000001762032C828>), ('set_printoptions', <function set_printoptions at 0x0000017620327828>), ('get_printoptions', <function get_printoptions at 0x00000176203278B8>), ('printoptions', <function printoptions at 0x00000176203279D8>), ('format_float_positional', <function format_float_positional at 0x0000017620329708>), ('format_float_scientific', <function format_float_scientific at 0x0000017620329678>), ('asarray', <function asarray at 0x00000176202D3168>), ('asanyarray', <function asanyarray at 0x00000176202D3678>), ('ascontiguousarray', <function ascontiguousarray at 0x00000176202D3708>), ('asfortranarray', <function asfortranarray at 0x00000176202D3798>), ('require', <function require at 0x00000176202D3828>), ('seterr', <function seterr at 0x000001762030D558>), ('geterr', <function geterr at 0x000001762030D5E8>), ('setbufsize', <function setbufsize at 0x000001762030D678>), ('getbufsize', <function getbufsize at 0x000001762030D708>), ('seterrcall', <function seterrcall at 0x000001762030D798>), ('geterrcall', <function geterrcall at 0x000001762030D828>), ('errstate', <class 'numpy.errstate'>), ('record', <class 'numpy.record'>), ('recarray', <class 'numpy.recarray'>), ('format_parser', <class 'numpy.format_parser'>), ('chararray', <class 'numpy.chararray'>), ('logspace', <function logspace at 0x0000017620367E58>), ('linspace', <function linspace at 0x0000017620367C18>), ('geomspace', <function geomspace at 0x000001762036D0D8>), ('MachAr', <class 'numpy.MachAr'>), ('finfo', <class 'numpy.finfo'>), ('iinfo', <class 'numpy.iinfo'>), ('atleast_1d', <function atleast_1d at 0x0000017620307948>), ('atleast_2d', <function atleast_2d at 0x0000017620307B88>), ('atleast_3d', <function atleast_3d at 0x0000017620307DC8>), ('block', <function block at 0x0000017620309AF8>), ('hstack', <function hstack at 0x0000017620309288>), ('stack', <function stack at 0x00000176203094C8>), ('vstack', <function vstack at 0x00000176203090D8>), ('einsum', <function einsum at 0x0000017620379F78>), ('einsum_path', <function einsum_path at 0x0000017620379D38>), ('linalg', <module 'numpy.linalg' from 'C:\\\\Users\\\\hxs104000\\\\Anaconda3\\\\lib\\\\site-packages\\\\numpy\\\\linalg\\\\__init__.py'>), ('matrixlib', <module 'numpy.matrixlib' from 'C:\\\\Users\\\\hxs104000\\\\Anaconda3\\\\lib\\\\site-packages\\\\numpy\\\\matrixlib\\\\__init__.py'>), ('lib', <module 'numpy.lib' from 'C:\\\\Users\\\\hxs104000\\\\Anaconda3\\\\lib\\\\site-packages\\\\numpy\\\\lib\\\\__init__.py'>), ('emath', <module 'numpy.lib.scimath' from 'C:\\\\Users\\\\hxs104000\\\\Anaconda3\\\\lib\\\\site-packages\\\\numpy\\\\lib\\\\scimath.py'>), ('math', <module 'math' (built-in)>), ('tracemalloc_domain', 389047), ('iscomplexobj', <function iscomplexobj at 0x00000176203D38B8>), ('isrealobj', <function isrealobj at 0x00000176203D3A68>), ('imag', <function imag at 0x00000176203D3318>), ('iscomplex', <function iscomplex at 0x00000176203D3558>), ('isreal', <function isreal at 0x00000176203D3708>), ('nan_to_num', <function nan_to_num at 0x00000176203D3D38>), ('real', <function real at 0x00000176203D30D8>), ('real_if_close', <function real_if_close at 0x00000176203D3F78>), ('typename', <function typename at 0x00000176203D7168>), ('asfarray', <function asfarray at 0x00000176203CEE58>), ('mintypecode', <function mintypecode at 0x00000176203CE318>), ('asscalar', <function asscalar at 0x00000176203D71F8>), ('common_type', <function common_type at 0x00000176203D74C8>), ('ravel_multi_index', <function ravel_multi_index at 0x00000176202AB168>), ('unravel_index', <function unravel_index at 0x00000176202AB318>), ('mgrid', <numpy.lib.index_tricks.MGridClass object at 0x0000017620416D08>), ('ogrid', <numpy.lib.index_tricks.OGridClass object at 0x00000176203DF288>), ('r_', <numpy.lib.index_tricks.RClass object at 0x0000017620461888>), ('c_', <numpy.lib.index_tricks.CClass object at 0x0000017620461908>), ('s_', <numpy.lib.index_tricks.IndexExpression object at 0x0000017620461A48>), ('index_exp', <numpy.lib.index_tricks.IndexExpression object at 0x0000017620461A08>), ('ix_', <function ix_ at 0x00000176204633A8>), ('ndenumerate', <class 'numpy.ndenumerate'>), ('ndindex', <class 'numpy.ndindex'>), ('fill_diagonal', <function fill_diagonal at 0x000001762046A048>), ('diag_indices', <function diag_indices at 0x0000017620463F78>), ('diag_indices_from', <function diag_indices_from at 0x000001762046A318>), ('select', <function select at 0x0000017620430E58>), ('piecewise', <function piecewise at 0x0000017620430C18>), ('trim_zeros', <function trim_zeros at 0x00000176204310D8>), ('copy', <function copy at 0x00000176204340D8>), ('iterable', <function iterable at 0x00000176204305E8>), ('percentile', <function percentile at 0x000001762043D168>), ('diff', <function diff at 0x0000017620434558>), ('gradient', <function gradient at 0x0000017620434318>), ('angle', <function angle at 0x00000176204349D8>), ('unwrap', <function unwrap at 0x0000017620434C18>), ('sort_complex', <function sort_complex at 0x0000017620434E58>), ('disp', <function disp at 0x0000017620431288>), ('flip', <function flip at 0x0000017620430678>), ('rot90', <function rot90 at 0x0000017620430438>), ('extract', <function extract at 0x0000017620431318>), ('place', <function place at 0x0000017620431558>), ('vectorize', <class 'numpy.vectorize'>), ('asarray_chkfinite', <function asarray_chkfinite at 0x00000176204308B8>), ('average', <function average at 0x0000017620430948>), ('bincount', <function bincount at 0x00000176202A5F78>), ('digitize', <function digitize at 0x0000017620460318>), ('cov', <function cov at 0x0000017620431DC8>), ('corrcoef', <function corrcoef at 0x000001762043A048>), ('msort', <function msort at 0x000001762043AB88>), ('median', <function median at 0x000001762043AE58>), ('sinc', <function sinc at 0x000001762043A948>), ('hamming', <function hamming at 0x000001762043A1F8>), ('hanning', <function hanning at 0x000001762043A168>), ('bartlett', <function bartlett at 0x000001762043A0D8>), ('blackman', <function blackman at 0x0000017620431F78>), ('kaiser', <function kaiser at 0x000001762043A5E8>), ('trapz', <function trapz at 0x000001762043D798>), ('i0', <function i0 at 0x000001762043A678>), ('add_newdoc', <function add_newdoc at 0x000001762036D168>), ('add_docstring', <built-in function add_docstring>), ('meshgrid', <function meshgrid at 0x000001762043D9D8>), ('delete', <function delete at 0x000001762043DC18>), ('insert', <function insert at 0x000001762043DE58>), ('append', <function append at 0x00000176204600D8>), ('interp', <function interp at 0x0000017620434798>), ('add_newdoc_ufunc', <built-in function _add_newdoc_ufunc>), ('quantile', <function quantile at 0x000001762043D3A8>), ('column_stack', <function column_stack at 0x00000176204841F8>), ('row_stack', <function vstack at 0x00000176203090D8>), ('dstack', <function dstack at 0x0000017620484438>), ('array_split', <function array_split at 0x0000017620484708>), ('split', <function split at 0x0000017620484948>), ('hsplit', <function hsplit at 0x0000017620484B88>), ('vsplit', <function vsplit at 0x0000017620484D38>), ('dsplit', <function dsplit at 0x0000017620484EE8>), ('apply_over_axes', <function apply_over_axes at 0x000001762047DD38>), ('expand_dims', <function expand_dims at 0x000001762047DF78>), ('apply_along_axis', <function apply_along_axis at 0x000001762047DAF8>), ('kron', <function kron at 0x0000017620482288>), ('tile', <function tile at 0x00000176204824C8>), ('get_array_wrap', <function get_array_wrap at 0x0000017620484E58>), ('take_along_axis', <function take_along_axis at 0x000001762047D678>), ('put_along_axis', <function put_along_axis at 0x000001762047D8B8>), ('broadcast_to', <function broadcast_to at 0x0000017620463048>), ('broadcast_arrays', <function broadcast_arrays at 0x0000017620463318>), ('diag', <function diag at 0x00000176204000D8>), ('diagflat', <function diagflat at 0x0000017620400288>), ('eye', <function eye at 0x00000176203FCD38>), ('fliplr', <function fliplr at 0x00000176203FCC18>), ('flipud', <function flipud at 0x00000176203FCDC8>), ('tri', <function tri at 0x00000176204001F8>), ('triu', <function triu at 0x0000017620400708>), ('tril', <function tril at 0x0000017620400558>), ('vander', <function vander at 0x0000017620400948>), ('histogram2d', <function histogram2d at 0x0000017620400B88>), ('mask_indices', <function mask_indices at 0x0000017620400AF8>), ('tril_indices', <function tril_indices at 0x0000017620400C18>), ('tril_indices_from', <function tril_indices_from at 0x0000017620400EE8>), ('triu_indices', <function triu_indices at 0x0000017620400E58>), ('triu_indices_from', <function triu_indices_from at 0x0000017620402168>), ('fix', <function fix at 0x00000176203CE828>), ('isneginf', <function isneginf at 0x00000176203CECA8>), ('isposinf', <function isposinf at 0x00000176203CEA68>), ('pad', <function pad at 0x00000176204EDD38>), ('poly', <function poly at 0x000001762048F9D8>), ('roots', <function roots at 0x000001762048FC18>), ('polyint', <function polyint at 0x000001762048FE58>), ('polyder', <function polyder at 0x00000176204950D8>), ('polyadd', <function polyadd at 0x0000017620495798>), ('polysub', <function polysub at 0x0000017620495948>), ('polymul', <function polymul at 0x0000017620495AF8>), ('polydiv', <function polydiv at 0x0000017620495D38>), ('polyval', <function polyval at 0x0000017620495558>), ('poly1d', <class 'numpy.poly1d'>), ('polyfit', <function polyfit at 0x0000017620495318>), ('RankWarning', <class 'numpy.RankWarning'>), ('issubclass_', <function issubclass_ at 0x00000176202B1708>), ('issubsctype', <function issubsctype at 0x00000176202B1A68>), ('deprecate', <function deprecate at 0x00000176204A0438>), ('deprecate_with_doc', <function <lambda> at 0x00000176204A04C8>), ('get_include', <function get_include at 0x000001762048F678>), ('info', <function info at 0x00000176204A08B8>), ('source', <function source at 0x00000176204A0948>), ('who', <function who at 0x00000176204A05E8>), ('lookfor', <function lookfor at 0x00000176204A09D8>), ('byte_bounds', <function byte_bounds at 0x00000176204A0558>), ('safe_eval', <function safe_eval at 0x00000176204A0AF8>), ('ediff1d', <function ediff1d at 0x00000176204A4E58>), ('intersect1d', <function intersect1d at 0x00000176204AA438>), ('setxor1d', <function setxor1d at 0x00000176204AA678>), ('union1d', <function union1d at 0x00000176204AAD38>), ('setdiff1d', <function setdiff1d at 0x00000176204AAF78>), ('unique', <function unique at 0x00000176204AA168>), ('in1d', <function in1d at 0x00000176204AA8B8>), ('isin', <function isin at 0x00000176204AAAF8>), ('savetxt', <function savetxt at 0x00000176204DA168>), ('loadtxt', <function loadtxt at 0x00000176204DDE58>), ('genfromtxt', <function genfromtxt at 0x00000176204DA1F8>), ('ndfromtxt', <function ndfromtxt at 0x00000176204DDEE8>), ('mafromtxt', <function mafromtxt at 0x00000176204DA288>), ('recfromtxt', <function recfromtxt at 0x00000176204DA318>), ('recfromcsv', <function recfromcsv at 0x00000176204DA3A8>), ('load', <function load at 0x00000176204DD5E8>), ('loads', <function loads at 0x00000176204CFEE8>), ('save', <function save at 0x00000176204DD8B8>), ('savez', <function savez at 0x00000176204DDAF8>), ('savez_compressed', <function savez_compressed at 0x00000176204DDD38>), ('packbits', <function packbits at 0x00000176202AB828>), ('unpackbits', <function unpackbits at 0x00000176202AB9D8>), ('fromregex', <function fromregex at 0x00000176204DA0D8>), ('DataSource', <class 'numpy.DataSource'>), ('fv', <function fv at 0x00000176204E2708>), ('pmt', <function pmt at 0x00000176204E2948>), ('nper', <function nper at 0x00000176204E2B88>), ('ipmt', <function ipmt at 0x00000176204E2DC8>), ('ppmt', <function ppmt at 0x00000176204E70D8>), ('pv', <function pv at 0x00000176204E7318>), ('rate', <function rate at 0x00000176204E75E8>), ('irr', <function irr at 0x00000176204E7828>), ('npv', <function npv at 0x00000176204E7A68>), ('mirr', <function mirr at 0x00000176204E7CA8>), ('nansum', <function nansum at 0x00000176204733A8>), ('nanmax', <function nanmax at 0x000001762046FCA8>), ('nanmin', <function nanmin at 0x000001762046FA68>), ('nanargmax', <function nanargmax at 0x0000017620473168>), ('nanargmin', <function nanargmin at 0x000001762046FEE8>), ('nanmean', <function nanmean at 0x0000017620473CA8>), ('nanmedian', <function nanmedian at 0x00000176204790D8>), ('nanpercentile', <function nanpercentile at 0x0000017620479318>), ('nanvar', <function nanvar at 0x0000017620479948>), ('nanstd', <function nanstd at 0x0000017620479B88>), ('nanprod', <function nanprod at 0x00000176204735E8>), ('nancumsum', <function nancumsum at 0x0000017620473828>), ('nancumprod', <function nancumprod at 0x0000017620473A68>), ('nanquantile', <function nanquantile at 0x0000017620479558>), ('histogram', <function histogram at 0x0000017620430168>), ('histogramdd', <function histogramdd at 0x00000176204303A8>), ('histogram_bin_edges', <function histogram_bin_edges at 0x000001762042BEE8>), ('fft', <module 'numpy.fft' from 'C:\\\\Users\\\\hxs104000\\\\Anaconda3\\\\lib\\\\site-packages\\\\numpy\\\\fft\\\\__init__.py'>), ('polynomial', <module 'numpy.polynomial' from 'C:\\\\Users\\\\hxs104000\\\\Anaconda3\\\\lib\\\\site-packages\\\\numpy\\\\polynomial\\\\__init__.py'>), ('random', <module 'numpy.random' from 'C:\\\\Users\\\\hxs104000\\\\Anaconda3\\\\lib\\\\site-packages\\\\numpy\\\\random\\\\__init__.py'>), ('ctypeslib', <module 'numpy.ctypeslib' from 'C:\\\\Users\\\\hxs104000\\\\Anaconda3\\\\lib\\\\site-packages\\\\numpy\\\\ctypeslib.py'>), ('ma', <module 'numpy.ma' from 'C:\\\\Users\\\\hxs104000\\\\Anaconda3\\\\lib\\\\site-packages\\\\numpy\\\\ma\\\\__init__.py'>), ('_mat', <module 'numpy.matrixlib' from 'C:\\\\Users\\\\hxs104000\\\\Anaconda3\\\\lib\\\\site-packages\\\\numpy\\\\matrixlib\\\\__init__.py'>), ('matrix', <class 'numpy.matrix'>), ('bmat', <function bmat at 0x00000176204129D8>), ('mat', <function asmatrix at 0x00000176203E7A68>), ('asmatrix', <function asmatrix at 0x00000176203E7A68>), ('bool', <class 'bool'>), ('int', <class 'int'>), ('float', <class 'float'>), ('complex', <class 'complex'>), ('object', <class 'object'>), ('str', <class 'str'>), ('round', <function round_ at 0x0000017620307168>), ('abs', <ufunc 'absolute'>), ('max', <function amax at 0x00000176202FB8B8>), ('min', <function amin at 0x00000176202FBAF8>), ('oldnumeric', 'removed'), ('numarray', 'removed'), ('__getattr__', <function __getattr__ at 0x00000176205DDCA8>), ('__dir__', <function __dir__ at 0x00000176205D78B8>), ('test', <numpy._pytesttester.PytestTester object at 0x0000017620682A48>), ('mkl', <module 'mkl' from 'C:\\\\Users\\\\hxs104000\\\\Anaconda3\\\\lib\\\\site-packages\\\\mkl\\\\__init__.py'>), ('__mkl_version__', '2020.0')])"
      ]
     },
     "execution_count": 17,
     "metadata": {},
     "output_type": "execute_result"
    }
   ],
   "source": [
    "numpy.__dict__.items()"
   ]
  },
  {
   "cell_type": "code",
   "execution_count": 18,
   "metadata": {
    "ExecuteTime": {
     "end_time": "2020-06-14T06:08:50.390018Z",
     "start_time": "2020-06-14T06:08:50.384072Z"
    }
   },
   "outputs": [
    {
     "data": {
      "text/plain": [
       "'__main__'"
      ]
     },
     "execution_count": 18,
     "metadata": {},
     "output_type": "execute_result"
    }
   ],
   "source": [
    "__name__"
   ]
  },
  {
   "cell_type": "code",
   "execution_count": 19,
   "metadata": {
    "ExecuteTime": {
     "end_time": "2020-06-14T06:09:04.247099Z",
     "start_time": "2020-06-14T06:09:04.239129Z"
    }
   },
   "outputs": [
    {
     "ename": "NameError",
     "evalue": "name '__main__' is not defined",
     "output_type": "error",
     "traceback": [
      "\u001b[1;31m---------------------------------------------------------------------------\u001b[0m",
      "\u001b[1;31mNameError\u001b[0m                                 Traceback (most recent call last)",
      "\u001b[1;32m<ipython-input-19-19bc6e7e07cd>\u001b[0m in \u001b[0;36m<module>\u001b[1;34m\u001b[0m\n\u001b[1;32m----> 1\u001b[1;33m \u001b[0m__main__\u001b[0m\u001b[1;33m\u001b[0m\u001b[1;33m\u001b[0m\u001b[0m\n\u001b[0m",
      "\u001b[1;31mNameError\u001b[0m: name '__main__' is not defined"
     ]
    }
   ],
   "source": [
    "__main__"
   ]
  },
  {
   "cell_type": "code",
   "execution_count": 21,
   "metadata": {
    "ExecuteTime": {
     "end_time": "2020-06-14T06:10:45.579331Z",
     "start_time": "2020-06-14T06:10:45.574340Z"
    }
   },
   "outputs": [
    {
     "data": {
      "text/plain": [
       "True"
      ]
     },
     "execution_count": 21,
     "metadata": {},
     "output_type": "execute_result"
    }
   ],
   "source": [
    "__name__=='__main__'"
   ]
  },
  {
   "cell_type": "code",
   "execution_count": 32,
   "metadata": {
    "ExecuteTime": {
     "end_time": "2020-06-14T06:24:52.465539Z",
     "start_time": "2020-06-14T06:24:52.461550Z"
    }
   },
   "outputs": [],
   "source": [
    "import sklearn"
   ]
  },
  {
   "cell_type": "code",
   "execution_count": 33,
   "metadata": {
    "ExecuteTime": {
     "end_time": "2020-06-14T06:24:52.961345Z",
     "start_time": "2020-06-14T06:24:52.957333Z"
    }
   },
   "outputs": [
    {
     "data": {
      "text/plain": [
       "'sklearn'"
      ]
     },
     "execution_count": 33,
     "metadata": {},
     "output_type": "execute_result"
    }
   ],
   "source": [
    "sklearn.__name__"
   ]
  },
  {
   "cell_type": "code",
   "execution_count": 28,
   "metadata": {
    "ExecuteTime": {
     "end_time": "2020-06-14T06:18:44.674567Z",
     "start_time": "2020-06-14T06:18:44.669570Z"
    }
   },
   "outputs": [
    {
     "ename": "SyntaxError",
     "evalue": "invalid syntax (<ipython-input-28-bffa30fcaef5>, line 1)",
     "output_type": "error",
     "traceback": [
      "\u001b[1;36m  File \u001b[1;32m\"<ipython-input-28-bffa30fcaef5>\"\u001b[1;36m, line \u001b[1;32m1\u001b[0m\n\u001b[1;33m    numpy.\u001b[0m\n\u001b[1;37m          ^\u001b[0m\n\u001b[1;31mSyntaxError\u001b[0m\u001b[1;31m:\u001b[0m invalid syntax\n"
     ]
    }
   ],
   "source": []
  },
  {
   "cell_type": "code",
   "execution_count": null,
   "metadata": {},
   "outputs": [],
   "source": []
  }
 ],
 "metadata": {
  "kernelspec": {
   "display_name": "Python 3",
   "language": "python",
   "name": "python3"
  },
  "language_info": {
   "codemirror_mode": {
    "name": "ipython",
    "version": 3
   },
   "file_extension": ".py",
   "mimetype": "text/x-python",
   "name": "python",
   "nbconvert_exporter": "python",
   "pygments_lexer": "ipython3",
   "version": "3.7.6"
  },
  "toc": {
   "base_numbering": 1,
   "nav_menu": {},
   "number_sections": true,
   "sideBar": true,
   "skip_h1_title": false,
   "title_cell": "Table of Contents",
   "title_sidebar": "Contents",
   "toc_cell": false,
   "toc_position": {},
   "toc_section_display": true,
   "toc_window_display": false
  },
  "varInspector": {
   "cols": {
    "lenName": 16,
    "lenType": 16,
    "lenVar": 40
   },
   "kernels_config": {
    "python": {
     "delete_cmd_postfix": "",
     "delete_cmd_prefix": "del ",
     "library": "var_list.py",
     "varRefreshCmd": "print(var_dic_list())"
    },
    "r": {
     "delete_cmd_postfix": ") ",
     "delete_cmd_prefix": "rm(",
     "library": "var_list.r",
     "varRefreshCmd": "cat(var_dic_list()) "
    }
   },
   "types_to_exclude": [
    "module",
    "function",
    "builtin_function_or_method",
    "instance",
    "_Feature"
   ],
   "window_display": false
  }
 },
 "nbformat": 4,
 "nbformat_minor": 2
}
