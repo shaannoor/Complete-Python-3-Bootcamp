{
 "cells": [
  {
   "cell_type": "markdown",
   "metadata": {},
   "source": [
    "# Guessing Game Challenge\n",
    "\n",
    "Let's use `while` loops to create a guessing game.\n",
    "\n",
    "The Challenge:\n",
    "\n",
    "Write a program that picks a random integer from 1 to 100, and has players guess the number. The rules are:\n",
    "\n",
    "1. If a player's guess is less than 1 or greater than 100, say \"OUT OF BOUNDS\"\n",
    "2. On a player's first turn, if their guess is\n",
    " * within 10 of the number, return \"WARM!\"\n",
    " * further than 10 away from the number, return \"COLD!\"\n",
    "3. On all subsequent turns, if a guess is \n",
    " * closer to the number than the previous guess return \"WARMER!\"\n",
    " * farther from the number than the previous guess, return \"COLDER!\"\n",
    "4. When the player's guess equals the number, tell them they've guessed correctly *and* how many guesses it took!\n",
    "\n",
    "You can try this from scratch, or follow the steps outlined below. A separate Solution notebook has been provided. Good luck!\n"
   ]
  },
  {
   "cell_type": "code",
   "execution_count": 9,
   "metadata": {
    "ExecuteTime": {
     "end_time": "2020-06-11T22:55:46.507959Z",
     "start_time": "2020-06-11T22:55:46.503970Z"
    }
   },
   "outputs": [],
   "source": [
    "import random"
   ]
  },
  {
   "cell_type": "code",
   "execution_count": 10,
   "metadata": {
    "ExecuteTime": {
     "end_time": "2020-06-11T22:55:47.060253Z",
     "start_time": "2020-06-11T22:55:47.055287Z"
    }
   },
   "outputs": [
    {
     "name": "stdout",
     "output_type": "stream",
     "text": [
      "47\n"
     ]
    }
   ],
   "source": [
    "number = random.randint(1,100)\n",
    "print(number)"
   ]
  },
  {
   "cell_type": "code",
   "execution_count": 14,
   "metadata": {
    "ExecuteTime": {
     "end_time": "2020-06-11T23:03:16.817965Z",
     "start_time": "2020-06-11T23:02:43.967903Z"
    }
   },
   "outputs": [
    {
     "name": "stdout",
     "output_type": "stream",
     "text": [
      "enter number between 1 and 100 \n",
      "12\n",
      "COLD\n",
      "enter number between 1 and 100 \n",
      "22\n",
      "Warmer\n",
      "enter number between 1 and 100 \n",
      "32\n",
      "Warmer\n",
      "enter number between 1 and 100 \n",
      "42\n",
      "Warmer\n",
      "enter number between 1 and 100 \n",
      "52\n",
      "Colder\n",
      "enter number between 1 and 100 \n",
      "50\n",
      "Warmer\n",
      "enter number between 1 and 100 \n",
      "48\n",
      "Warmer\n",
      "enter number between 1 and 100 \n",
      "46\n",
      "Colder\n",
      "enter number between 1 and 100 \n",
      "47\n",
      "Your guess is correct. It took 9 guesses to get the correct number.\n"
     ]
    }
   ],
   "source": [
    "count=1\n",
    "while True:\n",
    "    \n",
    "    guess=int(input(\"enter number between 1 and 100 \\n\"))\n",
    "    \n",
    "    if guess<1 or guess>100:\n",
    "        print(\"Out of Bound\")\n",
    "        continue\n",
    "    elif guess==number:\n",
    "        print(f\"Your guess is correct. It took {count} guesses to get the correct number.\")\n",
    "        break\n",
    "    if count==1:\n",
    "        last_guess=guess\n",
    "        if abs(guess-number)<=10:\n",
    "            print(\"WARM\")\n",
    "        else:\n",
    "            print(\"COLD\")\n",
    "    else:\n",
    "        if abs(guess-number)<abs(last_guess-number):\n",
    "            print(\"Warmer\")\n",
    "        else:\n",
    "            print(\"Colder\")\n",
    "        last_guess=guess\n",
    "    count+=1\n",
    "            \n",
    "    "
   ]
  },
  {
   "cell_type": "markdown",
   "metadata": {},
   "source": [
    "That's it! You've just programmed your first game!\n",
    "\n",
    "In the next section we'll learn how to turn some of these repetitive actions into *functions* that can be called whenever we need them."
   ]
  },
  {
   "cell_type": "markdown",
   "metadata": {},
   "source": [
    "### Good Job!"
   ]
  }
 ],
 "metadata": {
  "kernelspec": {
   "display_name": "Python 3",
   "language": "python",
   "name": "python3"
  },
  "language_info": {
   "codemirror_mode": {
    "name": "ipython",
    "version": 3
   },
   "file_extension": ".py",
   "mimetype": "text/x-python",
   "name": "python",
   "nbconvert_exporter": "python",
   "pygments_lexer": "ipython3",
   "version": "3.7.6"
  },
  "toc": {
   "base_numbering": 1,
   "nav_menu": {},
   "number_sections": true,
   "sideBar": true,
   "skip_h1_title": false,
   "title_cell": "Table of Contents",
   "title_sidebar": "Contents",
   "toc_cell": false,
   "toc_position": {},
   "toc_section_display": true,
   "toc_window_display": false
  },
  "varInspector": {
   "cols": {
    "lenName": 16,
    "lenType": 16,
    "lenVar": 40
   },
   "kernels_config": {
    "python": {
     "delete_cmd_postfix": "",
     "delete_cmd_prefix": "del ",
     "library": "var_list.py",
     "varRefreshCmd": "print(var_dic_list())"
    },
    "r": {
     "delete_cmd_postfix": ") ",
     "delete_cmd_prefix": "rm(",
     "library": "var_list.r",
     "varRefreshCmd": "cat(var_dic_list()) "
    }
   },
   "types_to_exclude": [
    "module",
    "function",
    "builtin_function_or_method",
    "instance",
    "_Feature"
   ],
   "window_display": false
  }
 },
 "nbformat": 4,
 "nbformat_minor": 2
}
